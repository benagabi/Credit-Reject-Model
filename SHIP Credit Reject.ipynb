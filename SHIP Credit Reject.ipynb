{
 "cells": [
  {
   "cell_type": "code",
   "execution_count": 1,
   "metadata": {},
   "outputs": [],
   "source": [
    "# Import needed libraries\n",
    "import os\n",
    "import scipy\n",
    "import warnings\n",
    "import numpy as np\n",
    "import pandas as pd\n",
    "import seaborn as sns\n",
    "from sklearn.svm import SVC\n",
    "from sklearn import metrics\n",
    "import statsmodels.api as sm\n",
    "from datetime import timedelta\n",
    "import matplotlib.pyplot as plt\n",
    "warnings.filterwarnings('ignore')\n",
    "from sklearn import preprocessing\n",
    "from matplotlib.pyplot import xticks\n",
    "from sklearn.metrics import roc_curve\n",
    "from imblearn.over_sampling import SMOTE\n",
    "from sklearn.metrics import roc_auc_score\n",
    "from sklearn.feature_selection import RFE\n",
    "from sklearn.naive_bayes import GaussianNB\n",
    "from sklearn.linear_model import SGDClassifier\n",
    "from sklearn.preprocessing import StandardScaler\n",
    "from sklearn.neighbors import KNeighborsClassifier\n",
    "from sklearn.model_selection import train_test_split\n",
    "from sklearn.feature_selection import SelectFromModel\n",
    "from sklearn.linear_model import LogisticRegression, Lasso\n",
    "from sklearn.metrics import classification_report, confusion_matrix\n",
    "from sklearn.model_selection import train_test_split, learning_curve\n",
    "from statsmodels.stats.outliers_influence import variance_inflation_factor\n",
    "from sklearn.metrics import explained_variance_score, r2_score, precision_score, recall_score\n",
    "from sklearn.ensemble import RandomForestClassifier, GradientBoostingClassifier, ExtraTreesClassifier, AdaBoostClassifier\n",
    "\n",
    "# Data display coustomization\n",
    "sns.set(style=\"white\")\n",
    "plt.rc(\"font\", size=14)\n",
    "pd.set_option('display.max_rows', 100)\n",
    "pd.set_option('display.max_columns', 100)\n",
    "sns.set(style=\"whitegrid\", color_codes=True)"
   ]
  },
  {
   "cell_type": "code",
   "execution_count": 2,
   "metadata": {},
   "outputs": [
    {
     "data": {
      "text/plain": [
       "(441667, 20)"
      ]
     },
     "execution_count": 2,
     "metadata": {},
     "output_type": "execute_result"
    }
   ],
   "source": [
    "# Load data and check size of raw data\n",
    "leadData = pd.read_excel(\"Credit Reject Data Request.xlsx\", sheet_name = 'Detail Data Set')\n",
    "leadData.shape"
   ]
  },
  {
   "cell_type": "markdown",
   "metadata": {},
   "source": [
    "**Filter data**\n",
    "\n",
    "The credit reject field contains values of 0 & 1. 1= credit was rejected. However the credit reject data represents 3 scenarios\n",
    "\n",
    "A. Lead where we never got a hold of Credit reject = 0\n",
    "\n",
    "B. Lead we contacted but never ran their credit, Reject = 0\n",
    "\n",
    "C. Lead we contacted and ran their credit Reject = 0 or 1.\n",
    "\n",
    "We are going to filter the data set where Gross Sales =1. When Gross Sales =1, this means the Sales team met with the customer."
   ]
  },
  {
   "cell_type": "code",
   "execution_count": 3,
   "metadata": {},
   "outputs": [
    {
     "data": {
      "text/plain": [
       "(80998, 12)"
      ]
     },
     "execution_count": 3,
     "metadata": {},
     "output_type": "execute_result"
    }
   ],
   "source": [
    "# Apply filter to Gross Sale column - Set to 1\n",
    "df = leadData[(leadData['GrossSale'] == 1)]\n",
    "df['Days_Difference'] = (df['AppointmentDate'] - df['LeadCreationDate']).dt.days\n",
    "ds = df[['LeadID','LeadSourceCategory','LeadSourceGroup','ProductName','CustomerCity','CustomerState','CustomerZip',\n",
    "         'ExperianSegment','Days_Difference','NetSale','GrossVolume','CreditReject']]\n",
    "ds.shape"
   ]
  },
  {
   "cell_type": "code",
   "execution_count": 4,
   "metadata": {},
   "outputs": [
    {
     "name": "stdout",
     "output_type": "stream",
     "text": [
      "Class 0: 62267\n",
      "Class 1: 18731\n",
      "Proportion: 3.32 : 1\n"
     ]
    },
    {
     "data": {
      "text/plain": [
       "<matplotlib.axes._subplots.AxesSubplot at 0x2fb2e648>"
      ]
     },
     "execution_count": 4,
     "metadata": {},
     "output_type": "execute_result"
    },
    {
     "data": {
      "image/png": "[encoded data removed]",
      "text/plain": [
       "<Figure size 432x288 with 1 Axes>"
      ]
     },
     "metadata": {
      "needs_background": "light"
     },
     "output_type": "display_data"
    }
   ],
   "source": [
    "# Check the CreditReject distributions\n",
    "CreditReject_Count = ds.CreditReject.value_counts()\n",
    "print('Class 0:', CreditReject_Count[0])\n",
    "print('Class 1:', CreditReject_Count[1])\n",
    "print('Proportion:', round(CreditReject_Count[0] / CreditReject_Count[1], 2), ': 1')\n",
    "\n",
    "sns.countplot(\"CreditReject\",data=ds)"
   ]
  },
  {
   "cell_type": "code",
   "execution_count": 5,
   "metadata": {},
   "outputs": [
    {
     "data": {
      "text/plain": [
       "LeadID                   0\n",
       "LeadSourceCategory       0\n",
       "LeadSourceGroup          0\n",
       "ProductName              0\n",
       "CustomerCity             1\n",
       "CustomerState            0\n",
       "CustomerZip              0\n",
       "ExperianSegment       8867\n",
       "Days_Difference          0\n",
       "NetSale                  0\n",
       "GrossVolume              0\n",
       "CreditReject             0\n",
       "dtype: int64"
      ]
     },
     "execution_count": 5,
     "metadata": {},
     "output_type": "execute_result"
    }
   ],
   "source": [
    "# Check total count of missing values in each column\n",
    "ds.isnull().sum()"
   ]
  },
  {
   "cell_type": "code",
   "execution_count": 6,
   "metadata": {},
   "outputs": [
    {
     "data": {
      "text/plain": [
       "LeadID                 0.00\n",
       "LeadSourceCategory     0.00\n",
       "LeadSourceGroup        0.00\n",
       "ProductName            0.00\n",
       "CustomerCity           0.00\n",
       "CustomerState          0.00\n",
       "CustomerZip            0.00\n",
       "ExperianSegment       10.95\n",
       "Days_Difference        0.00\n",
       "NetSale                0.00\n",
       "GrossVolume            0.00\n",
       "CreditReject           0.00\n",
       "dtype: float64"
      ]
     },
     "execution_count": 6,
     "metadata": {},
     "output_type": "execute_result"
    }
   ],
   "source": [
    "# Check for percentage of missing values\n",
    "missingValues_percentage = round(100*(ds.isnull().sum()/len(ds.index)), 2)\n",
    "missingValues_percentage"
   ]
  },
  {
   "cell_type": "code",
   "execution_count": 7,
   "metadata": {},
   "outputs": [
    {
     "data": {
      "text/plain": [
       "5.31"
      ]
     },
     "execution_count": 7,
     "metadata": {},
     "output_type": "execute_result"
    }
   ],
   "source": [
    "mean_ES = round(ds['ExperianSegment'].mean(),2)\n",
    "mean_ES"
   ]
  },
  {
   "cell_type": "code",
   "execution_count": 8,
   "metadata": {},
   "outputs": [],
   "source": [
    "# Fill missings values columns since they are less than 15% (Standard data mining procedure)\n",
    "ds['CustomerCity'] = ds['CustomerCity'].fillna('Unkwon')\n",
    "ds['ExperianSegment'] = ds['ExperianSegment'].fillna(mean_ES)"
   ]
  },
  {
   "cell_type": "code",
   "execution_count": 9,
   "metadata": {},
   "outputs": [
    {
     "data": {
      "text/plain": [
       "LeadID                0\n",
       "LeadSourceCategory    0\n",
       "LeadSourceGroup       0\n",
       "ProductName           0\n",
       "CustomerCity          0\n",
       "CustomerState         0\n",
       "CustomerZip           0\n",
       "ExperianSegment       0\n",
       "Days_Difference       0\n",
       "NetSale               0\n",
       "GrossVolume           0\n",
       "CreditReject          0\n",
       "dtype: int64"
      ]
     },
     "execution_count": 9,
     "metadata": {},
     "output_type": "execute_result"
    }
   ],
   "source": [
    "# Confirm\n",
    "ds.isnull().sum()"
   ]
  },
  {
   "cell_type": "markdown",
   "metadata": {},
   "source": [
    "# Feature Engineering"
   ]
  },
  {
   "cell_type": "code",
   "execution_count": 10,
   "metadata": {},
   "outputs": [
    {
     "data": {
      "text/html": [
       "<div>\n",
       "<style scoped>\n",
       "    .dataframe tbody tr th:only-of-type {\n",
       "        vertical-align: middle;\n",
       "    }\n",
       "\n",
       "    .dataframe tbody tr th {\n",
       "        vertical-align: top;\n",
       "    }\n",
       "\n",
       "    .dataframe thead th {\n",
       "        text-align: right;\n",
       "    }\n",
       "</style>\n",
       "<table border=\"1\" class=\"dataframe\">\n",
       "  <thead>\n",
       "    <tr style=\"text-align: right;\">\n",
       "      <th></th>\n",
       "      <th>frequency</th>\n",
       "      <th>GrossVolume</th>\n",
       "      <th>CustomerZip</th>\n",
       "    </tr>\n",
       "  </thead>\n",
       "  <tbody>\n",
       "    <tr>\n",
       "      <td>count</td>\n",
       "      <td>12610.000000</td>\n",
       "      <td>12610.000000</td>\n",
       "      <td>12610.000000</td>\n",
       "    </tr>\n",
       "    <tr>\n",
       "      <td>mean</td>\n",
       "      <td>6.423315</td>\n",
       "      <td>10395.472415</td>\n",
       "      <td>50593.472799</td>\n",
       "    </tr>\n",
       "    <tr>\n",
       "      <td>std</td>\n",
       "      <td>9.349110</td>\n",
       "      <td>4281.816713</td>\n",
       "      <td>28418.596077</td>\n",
       "    </tr>\n",
       "    <tr>\n",
       "      <td>min</td>\n",
       "      <td>1.000000</td>\n",
       "      <td>1018.910000</td>\n",
       "      <td>601.000000</td>\n",
       "    </tr>\n",
       "    <tr>\n",
       "      <td>25%</td>\n",
       "      <td>1.000000</td>\n",
       "      <td>7860.886771</td>\n",
       "      <td>28409.500000</td>\n",
       "    </tr>\n",
       "    <tr>\n",
       "      <td>50%</td>\n",
       "      <td>3.000000</td>\n",
       "      <td>9860.927000</td>\n",
       "      <td>47141.000000</td>\n",
       "    </tr>\n",
       "    <tr>\n",
       "      <td>75%</td>\n",
       "      <td>8.000000</td>\n",
       "      <td>12220.026250</td>\n",
       "      <td>76007.500000</td>\n",
       "    </tr>\n",
       "    <tr>\n",
       "      <td>max</td>\n",
       "      <td>166.000000</td>\n",
       "      <td>60011.120000</td>\n",
       "      <td>99403.000000</td>\n",
       "    </tr>\n",
       "  </tbody>\n",
       "</table>\n",
       "</div>"
      ],
      "text/plain": [
       "          frequency   GrossVolume   CustomerZip\n",
       "count  12610.000000  12610.000000  12610.000000\n",
       "mean       6.423315  10395.472415  50593.472799\n",
       "std        9.349110   4281.816713  28418.596077\n",
       "min        1.000000   1018.910000    601.000000\n",
       "25%        1.000000   7860.886771  28409.500000\n",
       "50%        3.000000   9860.927000  47141.000000\n",
       "75%        8.000000  12220.026250  76007.500000\n",
       "max      166.000000  60011.120000  99403.000000"
      ]
     },
     "execution_count": 10,
     "metadata": {},
     "output_type": "execute_result"
    }
   ],
   "source": [
    "frequency = ds.groupby('CustomerZip').count()['LeadID'] # group zipcodes, and sum up number of Gross Salez\n",
    "mean = ds.groupby('CustomerZip').mean()['GrossVolume'] # get mean Gross Volume Salez\n",
    "cluster = pd.concat([frequency, mean], axis=1) # combine these\n",
    "cluster['CustomerZip'] = cluster.index\n",
    "cluster.columns = ['frequency', 'GrossVolume', 'CustomerZip']\n",
    "cluster.describe()"
   ]
  },
  {
   "cell_type": "markdown",
   "metadata": {},
   "source": [
    "**Create cluster group for zip codes**"
   ]
  },
  {
   "cell_type": "code",
   "execution_count": 11,
   "metadata": {},
   "outputs": [
    {
     "data": {
      "text/plain": [
       "cheap                    45176\n",
       "expensive_high_volume    27890\n",
       "expensive_low_volume      7932\n",
       "Name: zipcode_type, dtype: int64"
      ]
     },
     "execution_count": 11,
     "metadata": {},
     "output_type": "execute_result"
    }
   ],
   "source": [
    "# creating \"cheap\" group that has Gross Volume below mean (10395)\n",
    "cluster_cheap = cluster[cluster.GrossVolume < 10395]\n",
    "\n",
    "# temporary cluster - above mean GrossVolume\n",
    "cluster_temp = cluster[cluster.GrossVolume >= 10395]\n",
    "\n",
    "# creating \"low volume, higher gross volume\" group that has gross volume less frequently than the mean\n",
    "cluster_expensive_low_volume = cluster_temp[cluster_temp.frequency < 6]\n",
    "\n",
    "# creating \"high volume, higher volume\" more frequently than the mean\n",
    "cluster_expensive_high_volume = cluster_temp[cluster_temp.frequency >= 6]\n",
    "\n",
    "def get_zipcode_category(zipcode):\n",
    "    if zipcode in cluster_cheap.index:\n",
    "        return 'cheap'\n",
    "    elif zipcode in cluster_expensive_low_volume.index:\n",
    "        return 'expensive_low_volume'\n",
    "    else:\n",
    "        return 'expensive_high_volume' \n",
    "\n",
    "ds['zipcode_type'] = ds.CustomerZip.apply(get_zipcode_category)\n",
    "ds.zipcode_type.value_counts() # view how clusters look    "
   ]
  },
  {
   "cell_type": "code",
   "execution_count": 12,
   "metadata": {},
   "outputs": [],
   "source": [
    "# Create dummies (categorical features)\n",
    "\n",
    "ds['LeadSourceCategory'] = ds['LeadSourceCategory'].astype('category')\n",
    "LeadSourceCategory = pd.get_dummies(ds['LeadSourceCategory'], prefix='leadscat', drop_first=True)\n",
    "\n",
    "ds['LeadSourceGroup'] = ds['LeadSourceGroup'].astype('category')\n",
    "LeadSourceGroup = pd.get_dummies(ds['LeadSourceGroup'], prefix='leadsgrp', drop_first=True)\n",
    "\n",
    "ds['ProductName'] = ds['ProductName'].astype('category')\n",
    "ProductName = pd.get_dummies(ds['ProductName'], prefix='prdName', drop_first=True)\n",
    "\n",
    "ds['CustomerCity'] = ds['CustomerCity'].astype('category')\n",
    "CustomerCity = pd.get_dummies(ds['CustomerCity'], prefix='cuscity', drop_first=True)\n",
    "\n",
    "ds['CustomerState'] = ds['CustomerState'].astype('category')\n",
    "CustomerState = pd.get_dummies(ds['CustomerState'], prefix='cusstate', drop_first=True)\n",
    "\n",
    "ds['zipcode_type'] = ds['zipcode_type'].astype('category')\n",
    "zip_d = pd.get_dummies(ds['zipcode_type'], prefix='zp', drop_first=True)\n",
    "\n",
    "# adding these new categories to our dataframe\n",
    "data = pd.concat([ds,LeadSourceCategory,LeadSourceGroup,ProductName,CustomerCity,CustomerState,zip_d], axis=1)\n",
    "\n",
    "# drop old columns.\n",
    "data.drop(['LeadSourceCategory','LeadSourceGroup','ProductName','CustomerCity','CustomerState',\n",
    "           'CustomerZip','zipcode_type'], axis=1, inplace=True)"
   ]
  },
  {
   "cell_type": "code",
   "execution_count": 13,
   "metadata": {},
   "outputs": [
    {
     "data": {
      "text/html": [
       "<div>\n",
       "<style scoped>\n",
       "    .dataframe tbody tr th:only-of-type {\n",
       "        vertical-align: middle;\n",
       "    }\n",
       "\n",
       "    .dataframe tbody tr th {\n",
       "        vertical-align: top;\n",
       "    }\n",
       "\n",
       "    .dataframe thead th {\n",
       "        text-align: right;\n",
       "    }\n",
       "</style>\n",
       "<table border=\"1\" class=\"dataframe\">\n",
       "  <thead>\n",
       "    <tr style=\"text-align: right;\">\n",
       "      <th></th>\n",
       "      <th>LeadID</th>\n",
       "      <th>ExperianSegment</th>\n",
       "      <th>Days_Difference</th>\n",
       "      <th>NetSale</th>\n",
       "      <th>GrossVolume</th>\n",
       "      <th>CreditReject</th>\n",
       "      <th>leadscat_Centah</th>\n",
       "      <th>leadscat_Direct Mail</th>\n",
       "      <th>leadscat_InStore</th>\n",
       "      <th>leadscat_Inserts</th>\n",
       "      <th>leadscat_Internet #1</th>\n",
       "      <th>leadscat_Internet #2</th>\n",
       "      <th>leadscat_Misc/Self Gen</th>\n",
       "      <th>leadscat_Sears</th>\n",
       "      <th>leadscat_Take The Lead</th>\n",
       "      <th>leadscat_Telemarketing</th>\n",
       "      <th>leadscat_Third Party Fun</th>\n",
       "      <th>leadscat_Yellow Pages</th>\n",
       "      <th>leadsgrp_Armed Forces Exchange</th>\n",
       "      <th>leadsgrp_BuyerLink</th>\n",
       "      <th>leadsgrp_CCN Networks</th>\n",
       "      <th>leadsgrp_Centah Call Center</th>\n",
       "      <th>leadsgrp_Centah Store</th>\n",
       "      <th>leadsgrp_Centah Web</th>\n",
       "      <th>leadsgrp_Customer Communications</th>\n",
       "      <th>leadsgrp_Direct Buy</th>\n",
       "      <th>leadsgrp_Event Marketing</th>\n",
       "      <th>leadsgrp_Google Paid Search</th>\n",
       "      <th>leadsgrp_Home Advisor</th>\n",
       "      <th>leadsgrp_Instore</th>\n",
       "      <th>leadsgrp_MSN Paid Search</th>\n",
       "      <th>leadsgrp_Misc.</th>\n",
       "      <th>leadsgrp_Misc. Inserts</th>\n",
       "      <th>leadsgrp_Modernize</th>\n",
       "      <th>leadsgrp_Natural Search</th>\n",
       "      <th>leadsgrp_Online Display</th>\n",
       "      <th>leadsgrp_Other</th>\n",
       "      <th>leadsgrp_PI Email #2</th>\n",
       "      <th>leadsgrp_PI Internet</th>\n",
       "      <th>leadsgrp_Partner Web Traffic</th>\n",
       "      <th>leadsgrp_Porch</th>\n",
       "      <th>leadsgrp_Promotional Emails</th>\n",
       "      <th>leadsgrp_Prospect Mail</th>\n",
       "      <th>leadsgrp_QuinStreet</th>\n",
       "      <th>leadsgrp_RMI</th>\n",
       "      <th>leadsgrp_Radio</th>\n",
       "      <th>leadsgrp_Red Ventures</th>\n",
       "      <th>leadsgrp_Search Internet Tests</th>\n",
       "      <th>leadsgrp_Sears</th>\n",
       "      <th>leadsgrp_Sears Associate TTL</th>\n",
       "      <th>...</th>\n",
       "      <th>cuscity_village mills</th>\n",
       "      <th>cuscity_woodland park</th>\n",
       "      <th>cusstate_AR</th>\n",
       "      <th>cusstate_AZ</th>\n",
       "      <th>cusstate_Al</th>\n",
       "      <th>cusstate_CA</th>\n",
       "      <th>cusstate_CO</th>\n",
       "      <th>cusstate_CT</th>\n",
       "      <th>cusstate_DC</th>\n",
       "      <th>cusstate_DE</th>\n",
       "      <th>cusstate_FL</th>\n",
       "      <th>cusstate_GA</th>\n",
       "      <th>cusstate_IA</th>\n",
       "      <th>cusstate_ID</th>\n",
       "      <th>cusstate_IL</th>\n",
       "      <th>cusstate_IN</th>\n",
       "      <th>cusstate_KS</th>\n",
       "      <th>cusstate_KY</th>\n",
       "      <th>cusstate_LA</th>\n",
       "      <th>cusstate_MA</th>\n",
       "      <th>cusstate_MD</th>\n",
       "      <th>cusstate_ME</th>\n",
       "      <th>cusstate_MI</th>\n",
       "      <th>cusstate_MN</th>\n",
       "      <th>cusstate_MO</th>\n",
       "      <th>cusstate_MS</th>\n",
       "      <th>cusstate_MT</th>\n",
       "      <th>cusstate_NC</th>\n",
       "      <th>cusstate_NE</th>\n",
       "      <th>cusstate_NJ</th>\n",
       "      <th>cusstate_NM</th>\n",
       "      <th>cusstate_NV</th>\n",
       "      <th>cusstate_NY</th>\n",
       "      <th>cusstate_OH</th>\n",
       "      <th>cusstate_OK</th>\n",
       "      <th>cusstate_OR</th>\n",
       "      <th>cusstate_PA</th>\n",
       "      <th>cusstate_PR</th>\n",
       "      <th>cusstate_RI</th>\n",
       "      <th>cusstate_SC</th>\n",
       "      <th>cusstate_TN</th>\n",
       "      <th>cusstate_TX</th>\n",
       "      <th>cusstate_UT</th>\n",
       "      <th>cusstate_VA</th>\n",
       "      <th>cusstate_WA</th>\n",
       "      <th>cusstate_WI</th>\n",
       "      <th>cusstate_WV</th>\n",
       "      <th>cusstate_WY</th>\n",
       "      <th>zp_expensive_high_volume</th>\n",
       "      <th>zp_expensive_low_volume</th>\n",
       "    </tr>\n",
       "  </thead>\n",
       "  <tbody>\n",
       "    <tr>\n",
       "      <td>13</td>\n",
       "      <td>24015555</td>\n",
       "      <td>5.0</td>\n",
       "      <td>91</td>\n",
       "      <td>0</td>\n",
       "      <td>16838.43</td>\n",
       "      <td>1</td>\n",
       "      <td>0</td>\n",
       "      <td>0</td>\n",
       "      <td>0</td>\n",
       "      <td>0</td>\n",
       "      <td>1</td>\n",
       "      <td>0</td>\n",
       "      <td>0</td>\n",
       "      <td>0</td>\n",
       "      <td>0</td>\n",
       "      <td>0</td>\n",
       "      <td>0</td>\n",
       "      <td>0</td>\n",
       "      <td>0</td>\n",
       "      <td>0</td>\n",
       "      <td>0</td>\n",
       "      <td>0</td>\n",
       "      <td>0</td>\n",
       "      <td>0</td>\n",
       "      <td>0</td>\n",
       "      <td>1</td>\n",
       "      <td>0</td>\n",
       "      <td>0</td>\n",
       "      <td>0</td>\n",
       "      <td>0</td>\n",
       "      <td>0</td>\n",
       "      <td>0</td>\n",
       "      <td>0</td>\n",
       "      <td>0</td>\n",
       "      <td>0</td>\n",
       "      <td>0</td>\n",
       "      <td>0</td>\n",
       "      <td>0</td>\n",
       "      <td>0</td>\n",
       "      <td>0</td>\n",
       "      <td>0</td>\n",
       "      <td>0</td>\n",
       "      <td>0</td>\n",
       "      <td>0</td>\n",
       "      <td>0</td>\n",
       "      <td>0</td>\n",
       "      <td>0</td>\n",
       "      <td>0</td>\n",
       "      <td>0</td>\n",
       "      <td>0</td>\n",
       "      <td>...</td>\n",
       "      <td>0</td>\n",
       "      <td>0</td>\n",
       "      <td>0</td>\n",
       "      <td>0</td>\n",
       "      <td>0</td>\n",
       "      <td>0</td>\n",
       "      <td>0</td>\n",
       "      <td>0</td>\n",
       "      <td>0</td>\n",
       "      <td>0</td>\n",
       "      <td>0</td>\n",
       "      <td>1</td>\n",
       "      <td>0</td>\n",
       "      <td>0</td>\n",
       "      <td>0</td>\n",
       "      <td>0</td>\n",
       "      <td>0</td>\n",
       "      <td>0</td>\n",
       "      <td>0</td>\n",
       "      <td>0</td>\n",
       "      <td>0</td>\n",
       "      <td>0</td>\n",
       "      <td>0</td>\n",
       "      <td>0</td>\n",
       "      <td>0</td>\n",
       "      <td>0</td>\n",
       "      <td>0</td>\n",
       "      <td>0</td>\n",
       "      <td>0</td>\n",
       "      <td>0</td>\n",
       "      <td>0</td>\n",
       "      <td>0</td>\n",
       "      <td>0</td>\n",
       "      <td>0</td>\n",
       "      <td>0</td>\n",
       "      <td>0</td>\n",
       "      <td>0</td>\n",
       "      <td>0</td>\n",
       "      <td>0</td>\n",
       "      <td>0</td>\n",
       "      <td>0</td>\n",
       "      <td>0</td>\n",
       "      <td>0</td>\n",
       "      <td>0</td>\n",
       "      <td>0</td>\n",
       "      <td>0</td>\n",
       "      <td>0</td>\n",
       "      <td>0</td>\n",
       "      <td>0</td>\n",
       "      <td>0</td>\n",
       "    </tr>\n",
       "    <tr>\n",
       "      <td>24</td>\n",
       "      <td>24015615</td>\n",
       "      <td>6.0</td>\n",
       "      <td>23</td>\n",
       "      <td>0</td>\n",
       "      <td>14495.71</td>\n",
       "      <td>0</td>\n",
       "      <td>0</td>\n",
       "      <td>0</td>\n",
       "      <td>0</td>\n",
       "      <td>0</td>\n",
       "      <td>0</td>\n",
       "      <td>1</td>\n",
       "      <td>0</td>\n",
       "      <td>0</td>\n",
       "      <td>0</td>\n",
       "      <td>0</td>\n",
       "      <td>0</td>\n",
       "      <td>0</td>\n",
       "      <td>0</td>\n",
       "      <td>0</td>\n",
       "      <td>0</td>\n",
       "      <td>0</td>\n",
       "      <td>0</td>\n",
       "      <td>0</td>\n",
       "      <td>0</td>\n",
       "      <td>0</td>\n",
       "      <td>0</td>\n",
       "      <td>1</td>\n",
       "      <td>0</td>\n",
       "      <td>0</td>\n",
       "      <td>0</td>\n",
       "      <td>0</td>\n",
       "      <td>0</td>\n",
       "      <td>0</td>\n",
       "      <td>0</td>\n",
       "      <td>0</td>\n",
       "      <td>0</td>\n",
       "      <td>0</td>\n",
       "      <td>0</td>\n",
       "      <td>0</td>\n",
       "      <td>0</td>\n",
       "      <td>0</td>\n",
       "      <td>0</td>\n",
       "      <td>0</td>\n",
       "      <td>0</td>\n",
       "      <td>0</td>\n",
       "      <td>0</td>\n",
       "      <td>0</td>\n",
       "      <td>0</td>\n",
       "      <td>0</td>\n",
       "      <td>...</td>\n",
       "      <td>0</td>\n",
       "      <td>0</td>\n",
       "      <td>0</td>\n",
       "      <td>0</td>\n",
       "      <td>0</td>\n",
       "      <td>1</td>\n",
       "      <td>0</td>\n",
       "      <td>0</td>\n",
       "      <td>0</td>\n",
       "      <td>0</td>\n",
       "      <td>0</td>\n",
       "      <td>0</td>\n",
       "      <td>0</td>\n",
       "      <td>0</td>\n",
       "      <td>0</td>\n",
       "      <td>0</td>\n",
       "      <td>0</td>\n",
       "      <td>0</td>\n",
       "      <td>0</td>\n",
       "      <td>0</td>\n",
       "      <td>0</td>\n",
       "      <td>0</td>\n",
       "      <td>0</td>\n",
       "      <td>0</td>\n",
       "      <td>0</td>\n",
       "      <td>0</td>\n",
       "      <td>0</td>\n",
       "      <td>0</td>\n",
       "      <td>0</td>\n",
       "      <td>0</td>\n",
       "      <td>0</td>\n",
       "      <td>0</td>\n",
       "      <td>0</td>\n",
       "      <td>0</td>\n",
       "      <td>0</td>\n",
       "      <td>0</td>\n",
       "      <td>0</td>\n",
       "      <td>0</td>\n",
       "      <td>0</td>\n",
       "      <td>0</td>\n",
       "      <td>0</td>\n",
       "      <td>0</td>\n",
       "      <td>0</td>\n",
       "      <td>0</td>\n",
       "      <td>0</td>\n",
       "      <td>0</td>\n",
       "      <td>0</td>\n",
       "      <td>0</td>\n",
       "      <td>1</td>\n",
       "      <td>0</td>\n",
       "    </tr>\n",
       "  </tbody>\n",
       "</table>\n",
       "<p>2 rows × 10840 columns</p>\n",
       "</div>"
      ],
      "text/plain": [
       "      LeadID  ExperianSegment  Days_Difference  NetSale  GrossVolume  \\\n",
       "13  24015555              5.0               91        0     16838.43   \n",
       "24  24015615              6.0               23        0     14495.71   \n",
       "\n",
       "    CreditReject  leadscat_Centah  leadscat_Direct Mail  leadscat_InStore  \\\n",
       "13             1                0                     0                 0   \n",
       "24             0                0                     0                 0   \n",
       "\n",
       "    leadscat_Inserts  leadscat_Internet #1  leadscat_Internet #2  \\\n",
       "13                 0                     1                     0   \n",
       "24                 0                     0                     1   \n",
       "\n",
       "    leadscat_Misc/Self Gen  leadscat_Sears  leadscat_Take The Lead  \\\n",
       "13                       0               0                       0   \n",
       "24                       0               0                       0   \n",
       "\n",
       "    leadscat_Telemarketing  leadscat_Third Party Fun  leadscat_Yellow Pages  \\\n",
       "13                       0                         0                      0   \n",
       "24                       0                         0                      0   \n",
       "\n",
       "    leadsgrp_Armed Forces Exchange  leadsgrp_BuyerLink  leadsgrp_CCN Networks  \\\n",
       "13                               0                   0                      0   \n",
       "24                               0                   0                      0   \n",
       "\n",
       "    leadsgrp_Centah Call Center  leadsgrp_Centah Store  leadsgrp_Centah Web  \\\n",
       "13                            0                      0                    0   \n",
       "24                            0                      0                    0   \n",
       "\n",
       "    leadsgrp_Customer Communications  leadsgrp_Direct Buy  \\\n",
       "13                                 0                    1   \n",
       "24                                 0                    0   \n",
       "\n",
       "    leadsgrp_Event Marketing  leadsgrp_Google Paid Search  \\\n",
       "13                         0                            0   \n",
       "24                         0                            1   \n",
       "\n",
       "    leadsgrp_Home Advisor  leadsgrp_Instore  leadsgrp_MSN Paid Search  \\\n",
       "13                      0                 0                         0   \n",
       "24                      0                 0                         0   \n",
       "\n",
       "    leadsgrp_Misc.  leadsgrp_Misc. Inserts  leadsgrp_Modernize  \\\n",
       "13               0                       0                   0   \n",
       "24               0                       0                   0   \n",
       "\n",
       "    leadsgrp_Natural Search  leadsgrp_Online Display  leadsgrp_Other  \\\n",
       "13                        0                        0               0   \n",
       "24                        0                        0               0   \n",
       "\n",
       "    leadsgrp_PI Email #2  leadsgrp_PI Internet  leadsgrp_Partner Web Traffic  \\\n",
       "13                     0                     0                             0   \n",
       "24                     0                     0                             0   \n",
       "\n",
       "    leadsgrp_Porch  leadsgrp_Promotional Emails  leadsgrp_Prospect Mail  \\\n",
       "13               0                            0                       0   \n",
       "24               0                            0                       0   \n",
       "\n",
       "    leadsgrp_QuinStreet  leadsgrp_RMI  leadsgrp_Radio  leadsgrp_Red Ventures  \\\n",
       "13                    0             0               0                      0   \n",
       "24                    0             0               0                      0   \n",
       "\n",
       "    leadsgrp_Search Internet Tests  leadsgrp_Sears  \\\n",
       "13                               0               0   \n",
       "24                               0               0   \n",
       "\n",
       "    leadsgrp_Sears Associate TTL  ...  cuscity_village mills  \\\n",
       "13                             0  ...                      0   \n",
       "24                             0  ...                      0   \n",
       "\n",
       "    cuscity_woodland park  cusstate_AR  cusstate_AZ  cusstate_Al  cusstate_CA  \\\n",
       "13                      0            0            0            0            0   \n",
       "24                      0            0            0            0            1   \n",
       "\n",
       "    cusstate_CO  cusstate_CT  cusstate_DC  cusstate_DE  cusstate_FL  \\\n",
       "13            0            0            0            0            0   \n",
       "24            0            0            0            0            0   \n",
       "\n",
       "    cusstate_GA  cusstate_IA  cusstate_ID  cusstate_IL  cusstate_IN  \\\n",
       "13            1            0            0            0            0   \n",
       "24            0            0            0            0            0   \n",
       "\n",
       "    cusstate_KS  cusstate_KY  cusstate_LA  cusstate_MA  cusstate_MD  \\\n",
       "13            0            0            0            0            0   \n",
       "24            0            0            0            0            0   \n",
       "\n",
       "    cusstate_ME  cusstate_MI  cusstate_MN  cusstate_MO  cusstate_MS  \\\n",
       "13            0            0            0            0            0   \n",
       "24            0            0            0            0            0   \n",
       "\n",
       "    cusstate_MT  cusstate_NC  cusstate_NE  cusstate_NJ  cusstate_NM  \\\n",
       "13            0            0            0            0            0   \n",
       "24            0            0            0            0            0   \n",
       "\n",
       "    cusstate_NV  cusstate_NY  cusstate_OH  cusstate_OK  cusstate_OR  \\\n",
       "13            0            0            0            0            0   \n",
       "24            0            0            0            0            0   \n",
       "\n",
       "    cusstate_PA  cusstate_PR  cusstate_RI  cusstate_SC  cusstate_TN  \\\n",
       "13            0            0            0            0            0   \n",
       "24            0            0            0            0            0   \n",
       "\n",
       "    cusstate_TX  cusstate_UT  cusstate_VA  cusstate_WA  cusstate_WI  \\\n",
       "13            0            0            0            0            0   \n",
       "24            0            0            0            0            0   \n",
       "\n",
       "    cusstate_WV  cusstate_WY  zp_expensive_high_volume  \\\n",
       "13            0            0                         0   \n",
       "24            0            0                         1   \n",
       "\n",
       "    zp_expensive_low_volume  \n",
       "13                        0  \n",
       "24                        0  \n",
       "\n",
       "[2 rows x 10840 columns]"
      ]
     },
     "execution_count": 13,
     "metadata": {},
     "output_type": "execute_result"
    }
   ],
   "source": [
    "# View few rows.\n",
    "data.head(2)"
   ]
  },
  {
   "cell_type": "code",
   "execution_count": 14,
   "metadata": {},
   "outputs": [
    {
     "name": "stdout",
     "output_type": "stream",
     "text": [
      "length of training data 80998\n",
      "length of normal data 62267\n",
      "length of fraud  data 18731\n"
     ]
    }
   ],
   "source": [
    "print(\"length of training data\",len(data))\n",
    "print(\"length of normal data\",len(data[data[\"CreditReject\"]==0]))\n",
    "print(\"length of fraud  data\",len(data[data[\"CreditReject\"]==1]))"
   ]
  },
  {
   "cell_type": "code",
   "execution_count": 15,
   "metadata": {},
   "outputs": [
    {
     "name": "stdout",
     "output_type": "stream",
     "text": [
      "percentage of normal transacation is 76.87\n",
      "percentage of Credit Reject transacation 23.13\n"
     ]
    }
   ],
   "source": [
    "# Percentage of accepted and rejected transactions\n",
    "Count_Normal_transacation = len(data[data[\"CreditReject\"]==0]) # normal transaction are repersented by 0\n",
    "Count_CreditReject_transacation = len(data[data[\"CreditReject\"]==1]) # Credit Reject by 1\n",
    "Percentage_of_Normal_transacation = Count_Normal_transacation/(Count_Normal_transacation+Count_CreditReject_transacation)\n",
    "print(\"percentage of normal transacation is\",round(Percentage_of_Normal_transacation*100,2))\n",
    "Percentage_of_CreditReject_transacation= Count_CreditReject_transacation/(Count_Normal_transacation+Count_CreditReject_transacation)\n",
    "print(\"percentage of Credit Reject transacation\",round(Percentage_of_CreditReject_transacation*100,2))"
   ]
  },
  {
   "cell_type": "markdown",
   "metadata": {},
   "source": [
    "**Handle Imbalance problem - Resampling Technique**"
   ]
  },
  {
   "cell_type": "code",
   "execution_count": 16,
   "metadata": {},
   "outputs": [
    {
     "data": {
      "text/plain": [
       "1    18731\n",
       "0    18731\n",
       "Name: CreditReject, dtype: int64"
      ]
     },
     "execution_count": 16,
     "metadata": {},
     "output_type": "execute_result"
    }
   ],
   "source": [
    "#Down-sample Majority Class\n",
    "\n",
    "from sklearn.utils import resample\n",
    "# Separate majority and minority classes\n",
    "df_majority = data[data.CreditReject==0]\n",
    "df_minority = data[data.CreditReject==1]\n",
    " \n",
    "# Downsample majority class\n",
    "df_majority_downsampled = resample(df_majority, \n",
    "                                 replace=False,    # sample without replacement\n",
    "                                 n_samples=18731,     # to match minority class\n",
    "                                 random_state=123) # reproducible results\n",
    " \n",
    "# Combine minority class with downsampled majority class\n",
    "df_downsampled = pd.concat([df_majority_downsampled, df_minority])\n",
    " \n",
    "# Display new class counts\n",
    "df_downsampled.CreditReject.value_counts()"
   ]
  },
  {
   "cell_type": "markdown",
   "metadata": {},
   "source": [
    "# Build Models - Phase I"
   ]
  },
  {
   "cell_type": "code",
   "execution_count": 17,
   "metadata": {},
   "outputs": [],
   "source": [
    "# Standridze our GrossVolume column and Days_Difference column\n",
    "df_downsampled[\"Normalized Gross Amount\"] = StandardScaler().fit_transform(df_downsampled['GrossVolume'].values.reshape(-1, 1))\n",
    "df_downsampled[\"Normalized Days\"] = StandardScaler().fit_transform(df_downsampled['Days_Difference'].values.reshape(-1, 1))\n",
    "df_downsampled[\"Normalized ExperianSegment\"] = StandardScaler().fit_transform(df_downsampled['ExperianSegment'].values.reshape(-1, 1))\n",
    "df_downsampled.drop([\"LeadID\",\"GrossVolume\",\"Days_Difference\",\"ExperianSegment\"],axis=1,inplace=True)"
   ]
  },
  {
   "cell_type": "code",
   "execution_count": 18,
   "metadata": {},
   "outputs": [],
   "source": [
    "# Train a model using Logistic Regression - Undersampled data set\n",
    "\n",
    "# Separate input features (X) and target variable (y)\n",
    "y = df_downsampled.CreditReject\n",
    "X = df_downsampled.drop('CreditReject', axis=1)\n",
    "\n",
    "X_train,X_test,y_train,y_test = train_test_split(X,y,test_size=0.3,random_state=0)\n",
    "\n",
    "# Train model\n",
    "#logistic_regression = LogisticRegression(solver='liblinear', random_state=0) #Other options are 'newton-cg', 'lbfgs', 'sag', and 'saga'\n",
    "\n",
    "logistic_regression= LogisticRegression()\n",
    "logistic_regression.fit(X_train,y_train)\n",
    "y_pred=logistic_regression.predict(X_test)"
   ]
  },
  {
   "cell_type": "code",
   "execution_count": 19,
   "metadata": {},
   "outputs": [
    {
     "data": {
      "text/plain": [
       "<matplotlib.axes._subplots.AxesSubplot at 0x57c7c48>"
      ]
     },
     "execution_count": 19,
     "metadata": {},
     "output_type": "execute_result"
    },
    {
     "data": {
      "image/png": "[encoded data removed]",
      "text/plain": [
       "<Figure size 432x288 with 2 Axes>"
      ]
     },
     "metadata": {
      "needs_background": "light"
     },
     "output_type": "display_data"
    }
   ],
   "source": [
    "# Model validation with Confusion Matrix - Undersampled data without feature selection \n",
    "confusion_matrix = pd.crosstab(y_test, y_pred, rownames=['Actual'], colnames=['Predicted'])\n",
    "sns.heatmap(confusion_matrix,annot=True,cmap='Blues', fmt='g')"
   ]
  },
  {
   "cell_type": "markdown",
   "metadata": {},
   "source": [
    "**Confusion Matrix Interpretation**\n",
    "\n",
    "The above result is telling us that we have 4687+5420 correct predictions and 933+199 incorrect predictions"
   ]
  },
  {
   "cell_type": "code",
   "execution_count": 20,
   "metadata": {},
   "outputs": [
    {
     "name": "stdout",
     "output_type": "stream",
     "text": [
      "Accuracy:  0.9\n"
     ]
    }
   ],
   "source": [
    "print('Accuracy: ',round(metrics.accuracy_score(y_test, y_pred),3))\n",
    "plt.show()"
   ]
  },
  {
   "cell_type": "code",
   "execution_count": 21,
   "metadata": {},
   "outputs": [
    {
     "name": "stdout",
     "output_type": "stream",
     "text": [
      "              precision    recall  f1-score   support\n",
      "\n",
      "           0       0.96      0.83      0.89      5620\n",
      "           1       0.85      0.96      0.91      5619\n",
      "\n",
      "    accuracy                           0.90     11239\n",
      "   macro avg       0.91      0.90      0.90     11239\n",
      "weighted avg       0.91      0.90      0.90     11239\n",
      "\n"
     ]
    }
   ],
   "source": [
    "from sklearn.metrics import classification_report\n",
    "print(classification_report(y_test, y_pred))"
   ]
  },
  {
   "cell_type": "markdown",
   "metadata": {},
   "source": [
    "## Over-sampling using SMOTE Algorithm\n",
    "\n",
    "**Synthetic Minority Oversampling Technique**"
   ]
  },
  {
   "cell_type": "code",
   "execution_count": 22,
   "metadata": {},
   "outputs": [
    {
     "name": "stdout",
     "output_type": "stream",
     "text": [
      "length of oversampled data is  87158\n",
      "Number of Credit Accept in oversampled data 43579\n",
      "Number of Credit Reject 43579\n",
      "Proportion of no subscription data in oversampled data is  0.5\n",
      "Proportion of Credit Reject data in oversampled data is  0.5\n",
      "00:35:28.40\n"
     ]
    }
   ],
   "source": [
    "import timeit\n",
    "tic=timeit.default_timer() # Check processing time\n",
    "\n",
    "data_final = data.copy()\n",
    "\n",
    "# Standridze our GrossVolume column and Days_Difference column\n",
    "data_final[\"Normalized Gross Amount\"] = StandardScaler().fit_transform(data_final['GrossVolume'].values.reshape(-1, 1))\n",
    "data_final[\"Normalized Days\"] = StandardScaler().fit_transform(data_final['Days_Difference'].values.reshape(-1, 1))\n",
    "data_final[\"Normalized ExperianSegment\"] = StandardScaler().fit_transform(data_final['ExperianSegment'].values.reshape(-1, 1))\n",
    "data_final.drop([\"LeadID\",\"GrossVolume\",\"Days_Difference\",\"ExperianSegment\"],axis=1,inplace=True)\n",
    "\n",
    "X = data_final.loc[:, data_final.columns != 'CreditReject']\n",
    "y = data_final.loc[:, data_final.columns == 'CreditReject']\n",
    "\n",
    "os = SMOTE(random_state=0)\n",
    "X_train, X_test, y_train, y_test = train_test_split(X, y, test_size=0.3, random_state=0)\n",
    "columns = X_train.columns\n",
    "\n",
    "os_data_X,os_data_y=os.fit_sample(X_train, y_train)\n",
    "os_data_X = pd.DataFrame(data=os_data_X,columns=columns )\n",
    "os_data_y= pd.DataFrame(data=os_data_y,columns=['CreditReject'])\n",
    "\n",
    "print(\"length of oversampled data is \",len(os_data_X))\n",
    "print(\"Number of Credit Accept in oversampled data\",len(os_data_y[os_data_y['CreditReject']==0]))\n",
    "print(\"Number of Credit Reject\",len(os_data_y[os_data_y['CreditReject']==1]))\n",
    "print(\"Proportion of no subscription data in oversampled data is \",len(os_data_y[os_data_y['CreditReject']==0])/len(os_data_X))\n",
    "print(\"Proportion of Credit Reject data in oversampled data is \",len(os_data_y[os_data_y['CreditReject']==1])/len(os_data_X))\n",
    "\n",
    "toc=timeit.default_timer()\n",
    "Elapsed = toc - tic \n",
    "hours, rem = divmod(Elapsed, 3600)\n",
    "minutes, seconds = divmod(rem, 60)\n",
    "print(\"{:0>2}:{:0>2}:{:05.2f}\".format(int(hours),int(minutes),seconds))"
   ]
  },
  {
   "cell_type": "markdown",
   "metadata": {},
   "source": [
    "**Logistic Regression with Oversampled data**"
   ]
  },
  {
   "cell_type": "code",
   "execution_count": 23,
   "metadata": {},
   "outputs": [
    {
     "name": "stdout",
     "output_type": "stream",
     "text": [
      "Accuracy: 92.2\n"
     ]
    }
   ],
   "source": [
    "X = pd.DataFrame(data=os_data_X,columns=columns )\n",
    "y = pd.DataFrame(data=os_data_y,columns=['CreditReject'])\n",
    "\n",
    "X_train,X_test,y_train,y_test = train_test_split(X,y,test_size=0.3,random_state=42)\n",
    "os_lr = LogisticRegression()\n",
    "os_lr.fit(X_train,y_train)\n",
    "os_pred = os_lr.predict(X_test)\n",
    "\n",
    "print('Accuracy:',round(metrics.accuracy_score(y_test, os_pred)*100,1))\n",
    "plt.show()"
   ]
  },
  {
   "cell_type": "markdown",
   "metadata": {},
   "source": [
    "# Feature Selection"
   ]
  },
  {
   "cell_type": "code",
   "execution_count": 24,
   "metadata": {},
   "outputs": [
    {
     "data": {
      "text/html": [
       "<div>\n",
       "<style scoped>\n",
       "    .dataframe tbody tr th:only-of-type {\n",
       "        vertical-align: middle;\n",
       "    }\n",
       "\n",
       "    .dataframe tbody tr th {\n",
       "        vertical-align: top;\n",
       "    }\n",
       "\n",
       "    .dataframe thead th {\n",
       "        text-align: right;\n",
       "    }\n",
       "</style>\n",
       "<table border=\"1\" class=\"dataframe\">\n",
       "  <thead>\n",
       "    <tr style=\"text-align: right;\">\n",
       "      <th></th>\n",
       "      <th>Feature</th>\n",
       "      <th>Score</th>\n",
       "    </tr>\n",
       "  </thead>\n",
       "  <tbody>\n",
       "    <tr>\n",
       "      <td>0</td>\n",
       "      <td>NetSale</td>\n",
       "      <td>164222.159974</td>\n",
       "    </tr>\n",
       "    <tr>\n",
       "      <td>10837</td>\n",
       "      <td>Normalized ExperianSegment</td>\n",
       "      <td>16637.341032</td>\n",
       "    </tr>\n",
       "    <tr>\n",
       "      <td>63</td>\n",
       "      <td>leadsgrp_Warm Transfer Programs</td>\n",
       "      <td>3778.136061</td>\n",
       "    </tr>\n",
       "    <tr>\n",
       "      <td>10790</td>\n",
       "      <td>cusstate_CA</td>\n",
       "      <td>2973.634987</td>\n",
       "    </tr>\n",
       "    <tr>\n",
       "      <td>28</td>\n",
       "      <td>leadsgrp_Modernize</td>\n",
       "      <td>2006.034182</td>\n",
       "    </tr>\n",
       "    <tr>\n",
       "      <td>23</td>\n",
       "      <td>leadsgrp_Home Advisor</td>\n",
       "      <td>2003.963712</td>\n",
       "    </tr>\n",
       "    <tr>\n",
       "      <td>6</td>\n",
       "      <td>leadscat_Internet #2</td>\n",
       "      <td>1391.915049</td>\n",
       "    </tr>\n",
       "    <tr>\n",
       "      <td>76</td>\n",
       "      <td>prdName_Roofing</td>\n",
       "      <td>777.886502</td>\n",
       "    </tr>\n",
       "    <tr>\n",
       "      <td>10791</td>\n",
       "      <td>cusstate_CO</td>\n",
       "      <td>724.052067</td>\n",
       "    </tr>\n",
       "    <tr>\n",
       "      <td>54</td>\n",
       "      <td>leadsgrp_Tech Leads</td>\n",
       "      <td>710.485198</td>\n",
       "    </tr>\n",
       "  </tbody>\n",
       "</table>\n",
       "</div>"
      ],
      "text/plain": [
       "                               Feature          Score\n",
       "0                              NetSale  164222.159974\n",
       "10837       Normalized ExperianSegment   16637.341032\n",
       "63     leadsgrp_Warm Transfer Programs    3778.136061\n",
       "10790                      cusstate_CA    2973.634987\n",
       "28                  leadsgrp_Modernize    2006.034182\n",
       "23               leadsgrp_Home Advisor    2003.963712\n",
       "6                 leadscat_Internet #2    1391.915049\n",
       "76                     prdName_Roofing     777.886502\n",
       "10791                      cusstate_CO     724.052067\n",
       "54                 leadsgrp_Tech Leads     710.485198"
      ]
     },
     "execution_count": 24,
     "metadata": {},
     "output_type": "execute_result"
    }
   ],
   "source": [
    "# Feature Extraction with Univariate Statistical Tests\n",
    "\n",
    "from sklearn.feature_selection import SelectKBest\n",
    "from sklearn.feature_selection import f_regression\n",
    "from sklearn.datasets import load_digits\n",
    "\n",
    "X_oversampled = pd.DataFrame(data=os_data_X,columns=columns )\n",
    "y_oversampled = pd.DataFrame(data=os_data_y,columns=['CreditReject'])\n",
    "\n",
    "X_train,X_test,y_train,y_test = train_test_split(X_oversampled,y_oversampled,test_size=0.3,random_state=42)\n",
    "\n",
    "names=pd.DataFrame(X_train.columns)\n",
    "\n",
    "model = SelectKBest(score_func=f_regression, k=4)\n",
    "results = model.fit(X_oversampled, y_oversampled)\n",
    "\n",
    "results_df=pd.DataFrame(results.scores_)\n",
    "#Concat and name columns\n",
    "scored=pd.concat([names,results_df], axis=1)\n",
    "scored.columns = [\"Feature\", \"Score\"]\n",
    "scored.sort_values(by=['Score'], ascending = False).head(10)"
   ]
  },
  {
   "cell_type": "code",
   "execution_count": 25,
   "metadata": {},
   "outputs": [
    {
     "name": "stdout",
     "output_type": "stream",
     "text": [
      "[1.64222160e+05 1.58934377e+02 7.06700622e+01 ... 5.69529920e+02\n",
      " 5.70153350e+01 1.66373410e+04]\n"
     ]
    }
   ],
   "source": [
    "print(results.scores_)"
   ]
  },
  {
   "cell_type": "markdown",
   "metadata": {},
   "source": [
    "**Feature Extraction with Lasso L1**"
   ]
  },
  {
   "cell_type": "code",
   "execution_count": 26,
   "metadata": {},
   "outputs": [
    {
     "name": "stdout",
     "output_type": "stream",
     "text": [
      "Non Zero weights: 18\n"
     ]
    }
   ],
   "source": [
    "X_lasso = pd.DataFrame(data=os_data_X,columns=columns )\n",
    "y_lasso = pd.DataFrame(data=os_data_y,columns=['CreditReject'])\n",
    "\n",
    "X_train,X_test,y_train,y_test = train_test_split(X_lasso,y_lasso,test_size=0.3,random_state=42)\n",
    "\n",
    "clf = LogisticRegression(C=0.01, penalty='l1',solver='liblinear')\n",
    "clf.fit(X_train,y_train)\n",
    "pred = clf.predict(X_test)\n",
    "print('Non Zero weights:',np.count_nonzero(clf.coef_))"
   ]
  },
  {
   "cell_type": "code",
   "execution_count": 27,
   "metadata": {},
   "outputs": [
    {
     "name": "stdout",
     "output_type": "stream",
     "text": [
      "Total features: 10838\n",
      "Selected features: 82\n",
      "Features with coefficients shrank to zero: 10756\n"
     ]
    }
   ],
   "source": [
    "#Selecting features using Lasso regularisation with SelectFromModel algo\n",
    "\n",
    "X_lasso2 = pd.DataFrame(data=os_data_X,columns=columns )\n",
    "y_lasso2 = pd.DataFrame(data=os_data_y,columns=['CreditReject'])\n",
    "\n",
    "X_train,X_test,y_train,y_test = train_test_split(X_lasso2,y_lasso2,test_size=0.3,random_state=42)\n",
    "\n",
    "lasso2 = SelectFromModel(LogisticRegression(C=0.1, penalty='l1',solver='liblinear'))\n",
    "lasso2.fit(X_train, y_train)\n",
    "\n",
    "selectedFeature = X_train.columns[(lasso2.get_support())]\n",
    "#np.sum(lasso.estimator_.coef_ == 0)\n",
    "print('Total features: {}'.format((X_train.shape[1])))\n",
    "print('Selected features: {}'.format(len(selectedFeature)))\n",
    "print('Features with coefficients shrank to zero: {}'.format(\n",
    "    np.sum(lasso2.estimator_.coef_ == 0)))"
   ]
  },
  {
   "cell_type": "code",
   "execution_count": 28,
   "metadata": {},
   "outputs": [
    {
     "data": {
      "text/html": [
       "<div>\n",
       "<style scoped>\n",
       "    .dataframe tbody tr th:only-of-type {\n",
       "        vertical-align: middle;\n",
       "    }\n",
       "\n",
       "    .dataframe tbody tr th {\n",
       "        vertical-align: top;\n",
       "    }\n",
       "\n",
       "    .dataframe thead th {\n",
       "        text-align: right;\n",
       "    }\n",
       "</style>\n",
       "<table border=\"1\" class=\"dataframe\">\n",
       "  <thead>\n",
       "    <tr style=\"text-align: right;\">\n",
       "      <th></th>\n",
       "      <th>0</th>\n",
       "    </tr>\n",
       "  </thead>\n",
       "  <tbody>\n",
       "    <tr>\n",
       "      <td>0</td>\n",
       "      <td>leadscat_Centah</td>\n",
       "    </tr>\n",
       "    <tr>\n",
       "      <td>1</td>\n",
       "      <td>leadscat_Direct Mail</td>\n",
       "    </tr>\n",
       "    <tr>\n",
       "      <td>2</td>\n",
       "      <td>leadscat_InStore</td>\n",
       "    </tr>\n",
       "    <tr>\n",
       "      <td>3</td>\n",
       "      <td>leadscat_Inserts</td>\n",
       "    </tr>\n",
       "    <tr>\n",
       "      <td>4</td>\n",
       "      <td>leadscat_Misc/Self Gen</td>\n",
       "    </tr>\n",
       "  </tbody>\n",
       "</table>\n",
       "</div>"
      ],
      "text/plain": [
       "                        0\n",
       "0         leadscat_Centah\n",
       "1    leadscat_Direct Mail\n",
       "2        leadscat_InStore\n",
       "3        leadscat_Inserts\n",
       "4  leadscat_Misc/Self Gen"
      ]
     },
     "execution_count": 28,
     "metadata": {},
     "output_type": "execute_result"
    }
   ],
   "source": [
    "#Identify the penalized coefficients (removed features)\n",
    "\n",
    "removed_features = X_train.columns[(lasso2.estimator_.coef_ == 0).ravel().tolist()]\n",
    "removed_features = pd.DataFrame(removed_features)\n",
    "removed_features.head()"
   ]
  },
  {
   "cell_type": "code",
   "execution_count": 29,
   "metadata": {},
   "outputs": [
    {
     "data": {
      "text/html": [
       "<div>\n",
       "<style scoped>\n",
       "    .dataframe tbody tr th:only-of-type {\n",
       "        vertical-align: middle;\n",
       "    }\n",
       "\n",
       "    .dataframe tbody tr th {\n",
       "        vertical-align: top;\n",
       "    }\n",
       "\n",
       "    .dataframe thead th {\n",
       "        text-align: right;\n",
       "    }\n",
       "</style>\n",
       "<table border=\"1\" class=\"dataframe\">\n",
       "  <thead>\n",
       "    <tr style=\"text-align: right;\">\n",
       "      <th></th>\n",
       "      <th>Selected_Features</th>\n",
       "    </tr>\n",
       "  </thead>\n",
       "  <tbody>\n",
       "    <tr>\n",
       "      <td>0</td>\n",
       "      <td>NetSale</td>\n",
       "    </tr>\n",
       "    <tr>\n",
       "      <td>1</td>\n",
       "      <td>leadscat_Internet #1</td>\n",
       "    </tr>\n",
       "    <tr>\n",
       "      <td>2</td>\n",
       "      <td>leadscat_Internet #2</td>\n",
       "    </tr>\n",
       "    <tr>\n",
       "      <td>3</td>\n",
       "      <td>leadsgrp_CCN Networks</td>\n",
       "    </tr>\n",
       "    <tr>\n",
       "      <td>4</td>\n",
       "      <td>leadsgrp_Google Paid Search</td>\n",
       "    </tr>\n",
       "  </tbody>\n",
       "</table>\n",
       "</div>"
      ],
      "text/plain": [
       "             Selected_Features\n",
       "0                      NetSale\n",
       "1         leadscat_Internet #1\n",
       "2         leadscat_Internet #2\n",
       "3        leadsgrp_CCN Networks\n",
       "4  leadsgrp_Google Paid Search"
      ]
     },
     "execution_count": 29,
     "metadata": {},
     "output_type": "execute_result"
    }
   ],
   "source": [
    "#Identify the retained features\n",
    "\n",
    "retained_features = X_train.columns[(lasso2.estimator_.coef_ != 0).ravel().tolist()]\n",
    "retained_features = pd.DataFrame(retained_features, columns = ['Selected_Features'])\n",
    "retained_features.head()"
   ]
  },
  {
   "cell_type": "code",
   "execution_count": 30,
   "metadata": {},
   "outputs": [
    {
     "data": {
      "text/plain": [
       "leadsgrp_Porch                     1\n",
       "cusstate_UT                        1\n",
       "cusstate_NY                        1\n",
       "prdName_Roofing                    1\n",
       "Normalized Gross Amount            1\n",
       "prdName_HVAC                       1\n",
       "prdName_Windows                    1\n",
       "leadsgrp_CCN Networks              1\n",
       "cusstate_NC                        1\n",
       "leadsgrp_Google Paid Search        1\n",
       "leadsgrp_Warm Transfer Programs    1\n",
       "cusstate_WA                        1\n",
       "prdName_Siding                     1\n",
       "NetSale                            1\n",
       "leadsgrp_Natural Search            1\n",
       "prdName_Flooring                   1\n",
       "leadsgrp_Home Advisor              1\n",
       "Normalized ExperianSegment         1\n",
       "cusstate_LA                        1\n",
       "leadscat_Internet #1               1\n",
       "prdName_Kitchens                   1\n",
       "cusstate_AR                        1\n",
       "leadsgrp_Modernize                 1\n",
       "zp_expensive_high_volume           1\n",
       "cusstate_FL                        1\n",
       "cusstate_TX                        1\n",
       "cusstate_IL                        1\n",
       "cusstate_CA                        1\n",
       "leadscat_Internet #2               1\n",
       "Normalized Days                    1\n",
       "Name: Selected_Features, dtype: int64"
      ]
     },
     "execution_count": 30,
     "metadata": {},
     "output_type": "execute_result"
    }
   ],
   "source": [
    "retained_features.Selected_Features.value_counts()"
   ]
  },
  {
   "cell_type": "markdown",
   "metadata": {},
   "source": [
    "# Build Model with Selected Features"
   ]
  },
  {
   "cell_type": "code",
   "execution_count": 28,
   "metadata": {},
   "outputs": [
    {
     "name": "stdout",
     "output_type": "stream",
     "text": [
      "Accuracy: 91.0\n"
     ]
    }
   ],
   "source": [
    "#X = pd.DataFrame(data=os_data_X,columns=columns)\n",
    "df_X = os_data_X[['leadsgrp_Porch','cusstate_UT','cusstate_NY','prdName_Roofing','Normalized Gross Amount',\n",
    "                  'prdName_HVAC','prdName_Windows','leadsgrp_CCN Networks','cusstate_NC',\n",
    "                  'leadsgrp_Google Paid Search','leadsgrp_Warm Transfer Programs','cusstate_WA',\n",
    "                  'prdName_Siding','NetSale','leadsgrp_Natural Search','prdName_Flooring',\n",
    "                  'leadsgrp_Home Advisor','Normalized ExperianSegment','cusstate_LA','leadscat_Internet #1',\n",
    "                  'prdName_Kitchens','cusstate_AR','leadsgrp_Modernize','zp_expensive_high_volume','cusstate_FL',\n",
    "                  'cusstate_TX','cusstate_IL','cusstate_CA','leadscat_Internet #2','Normalized Days']]\n",
    "\n",
    "y = pd.DataFrame(data=os_data_y,columns=['CreditReject'])\n",
    "\n",
    "X_train,X_test,y_train,y_test = train_test_split(df_X,y,test_size=0.3,random_state=42)\n",
    "os_lr = LogisticRegression()\n",
    "os_lr.fit(X_train,y_train)\n",
    "os_pred = os_lr.predict(X_test)\n",
    "\n",
    "print('Accuracy:',round(metrics.accuracy_score(y_test, os_pred)*100,1))\n",
    "plt.show()"
   ]
  },
  {
   "cell_type": "code",
   "execution_count": 29,
   "metadata": {},
   "outputs": [
    {
     "name": "stdout",
     "output_type": "stream",
     "text": [
      "Accuracy: 91.0\n"
     ]
    }
   ],
   "source": [
    "# Check scores on Training data set\n",
    "os_pred2 = os_lr.predict(X_train)\n",
    "\n",
    "print('Accuracy:',round(metrics.accuracy_score(y_train, os_pred2)*100,1))\n",
    "plt.show()"
   ]
  },
  {
   "cell_type": "markdown",
   "metadata": {},
   "source": [
    "## ROC Curve"
   ]
  },
  {
   "cell_type": "code",
   "execution_count": 30,
   "metadata": {},
   "outputs": [
    {
     "data": {
      "image/png": "[encoded data removed]",
      "text/plain": [
       "<Figure size 432x288 with 1 Axes>"
      ]
     },
     "metadata": {
      "needs_background": "light"
     },
     "output_type": "display_data"
    }
   ],
   "source": [
    "logit_roc_auc = roc_auc_score(y_test, os_lr.predict(X_test))\n",
    "fpr, tpr, thresholds = roc_curve(y_test, os_lr.predict_proba(X_test)[:,1])\n",
    "plt.figure()\n",
    "plt.plot(fpr, tpr, label='Logistic Regression (area = %0.2f)' % logit_roc_auc)\n",
    "plt.plot([0, 1], [0, 1],'r--')\n",
    "plt.xlim([0.0, 1.0])\n",
    "plt.ylim([0.0, 1.05])\n",
    "plt.xlabel('False Positive Rate')\n",
    "plt.ylabel('True Positive Rate')\n",
    "plt.title('Receiver operating characteristic')\n",
    "plt.legend(loc=\"lower right\")\n",
    "plt.savefig('Log_ROC')\n",
    "plt.show()"
   ]
  },
  {
   "cell_type": "markdown",
   "metadata": {},
   "source": [
    "The dotted line represents the ROC curve of a purely random classifier; a good classifier stays as far away from that line as possible (toward the top-left corner)."
   ]
  },
  {
   "cell_type": "code",
   "execution_count": 71,
   "metadata": {},
   "outputs": [
    {
     "name": "stdout",
     "output_type": "stream",
     "text": [
      "Accuracy: 89.8\n"
     ]
    }
   ],
   "source": [
    "#Random Forest Model\n",
    "\n",
    "# Instantiate model with 1000 decision trees\n",
    "rf = RandomForestClassifier(n_estimators = 1000, random_state = 42)\n",
    "\n",
    "rf.fit(X_train,y_train)\n",
    "rf_pred = rf.predict(X_test)\n",
    "\n",
    "print('Accuracy:',round(metrics.accuracy_score(y_test, rf_pred)*100,1))\n",
    "plt.show()"
   ]
  },
  {
   "cell_type": "markdown",
   "metadata": {},
   "source": [
    "**Repeat this steps to ensure that P-values for all the predictors are significant - 95% confidence level (P-Value <0.05)**"
   ]
  },
  {
   "cell_type": "code",
   "execution_count": 32,
   "metadata": {},
   "outputs": [
    {
     "data": {
      "text/html": [
       "<table class=\"simpletable\">\n",
       "<caption>Generalized Linear Model Regression Results</caption>\n",
       "<tr>\n",
       "  <th>Dep. Variable:</th>     <td>CreditReject</td>   <th>  No. Observations:  </th>  <td> 61010</td> \n",
       "</tr>\n",
       "<tr>\n",
       "  <th>Model:</th>                  <td>GLM</td>       <th>  Df Residuals:      </th>  <td> 60979</td> \n",
       "</tr>\n",
       "<tr>\n",
       "  <th>Model Family:</th>        <td>Binomial</td>     <th>  Df Model:          </th>  <td>    30</td> \n",
       "</tr>\n",
       "<tr>\n",
       "  <th>Link Function:</th>         <td>logit</td>      <th>  Scale:             </th> <td>  1.0000</td>\n",
       "</tr>\n",
       "<tr>\n",
       "  <th>Method:</th>                <td>IRLS</td>       <th>  Log-Likelihood:    </th> <td> -13484.</td>\n",
       "</tr>\n",
       "<tr>\n",
       "  <th>Date:</th>            <td>Thu, 16 Jul 2020</td> <th>  Deviance:          </th> <td>  26968.</td>\n",
       "</tr>\n",
       "<tr>\n",
       "  <th>Time:</th>                <td>21:31:53</td>     <th>  Pearson chi2:      </th> <td>3.92e+04</td>\n",
       "</tr>\n",
       "<tr>\n",
       "  <th>No. Iterations:</th>         <td>29</td>        <th>                     </th>     <td> </td>   \n",
       "</tr>\n",
       "<tr>\n",
       "  <th>Covariance Type:</th>     <td>nonrobust</td>    <th>                     </th>     <td> </td>   \n",
       "</tr>\n",
       "</table>\n",
       "<table class=\"simpletable\">\n",
       "<tr>\n",
       "                 <td></td>                    <th>coef</th>     <th>std err</th>      <th>z</th>      <th>P>|z|</th>  <th>[0.025</th>    <th>0.975]</th>  \n",
       "</tr>\n",
       "<tr>\n",
       "  <th>const</th>                           <td>    1.2903</td> <td>    0.045</td> <td>   28.532</td> <td> 0.000</td> <td>    1.202</td> <td>    1.379</td>\n",
       "</tr>\n",
       "<tr>\n",
       "  <th>leadsgrp_Porch</th>                  <td>    0.1654</td> <td>    0.129</td> <td>    1.284</td> <td> 0.199</td> <td>   -0.087</td> <td>    0.418</td>\n",
       "</tr>\n",
       "<tr>\n",
       "  <th>cusstate_UT</th>                     <td>   -1.1342</td> <td>    0.140</td> <td>   -8.089</td> <td> 0.000</td> <td>   -1.409</td> <td>   -0.859</td>\n",
       "</tr>\n",
       "<tr>\n",
       "  <th>cusstate_NY</th>                     <td>   -0.5695</td> <td>    0.066</td> <td>   -8.628</td> <td> 0.000</td> <td>   -0.699</td> <td>   -0.440</td>\n",
       "</tr>\n",
       "<tr>\n",
       "  <th>prdName_Roofing</th>                 <td>   -0.0392</td> <td>    0.059</td> <td>   -0.668</td> <td> 0.504</td> <td>   -0.154</td> <td>    0.076</td>\n",
       "</tr>\n",
       "<tr>\n",
       "  <th>Normalized Gross Amount</th>         <td>    0.3653</td> <td>    0.019</td> <td>   19.126</td> <td> 0.000</td> <td>    0.328</td> <td>    0.403</td>\n",
       "</tr>\n",
       "<tr>\n",
       "  <th>prdName_HVAC</th>                    <td>    0.4806</td> <td>    0.046</td> <td>   10.346</td> <td> 0.000</td> <td>    0.390</td> <td>    0.572</td>\n",
       "</tr>\n",
       "<tr>\n",
       "  <th>prdName_Windows</th>                 <td>    0.0480</td> <td>    0.053</td> <td>    0.901</td> <td> 0.368</td> <td>   -0.056</td> <td>    0.152</td>\n",
       "</tr>\n",
       "<tr>\n",
       "  <th>leadsgrp_CCN Networks</th>           <td>    0.1474</td> <td>    0.048</td> <td>    3.089</td> <td> 0.002</td> <td>    0.054</td> <td>    0.241</td>\n",
       "</tr>\n",
       "<tr>\n",
       "  <th>cusstate_NC</th>                     <td>    0.0840</td> <td>    0.074</td> <td>    1.128</td> <td> 0.259</td> <td>   -0.062</td> <td>    0.230</td>\n",
       "</tr>\n",
       "<tr>\n",
       "  <th>leadsgrp_Google Paid Search</th>     <td>    0.2311</td> <td>    0.095</td> <td>    2.427</td> <td> 0.015</td> <td>    0.044</td> <td>    0.418</td>\n",
       "</tr>\n",
       "<tr>\n",
       "  <th>leadsgrp_Warm Transfer Programs</th> <td>    0.8179</td> <td>    0.092</td> <td>    8.881</td> <td> 0.000</td> <td>    0.637</td> <td>    0.998</td>\n",
       "</tr>\n",
       "<tr>\n",
       "  <th>cusstate_WA</th>                     <td>   -1.3472</td> <td>    0.106</td> <td>  -12.694</td> <td> 0.000</td> <td>   -1.555</td> <td>   -1.139</td>\n",
       "</tr>\n",
       "<tr>\n",
       "  <th>prdName_Siding</th>                  <td>   -0.9875</td> <td>    0.079</td> <td>  -12.500</td> <td> 0.000</td> <td>   -1.142</td> <td>   -0.833</td>\n",
       "</tr>\n",
       "<tr>\n",
       "  <th>NetSale</th>                         <td>  -32.0647</td> <td> 1.54e+04</td> <td>   -0.002</td> <td> 0.998</td> <td>-3.02e+04</td> <td> 3.01e+04</td>\n",
       "</tr>\n",
       "<tr>\n",
       "  <th>leadsgrp_Natural Search</th>         <td>   -0.3156</td> <td>    0.098</td> <td>   -3.218</td> <td> 0.001</td> <td>   -0.508</td> <td>   -0.123</td>\n",
       "</tr>\n",
       "<tr>\n",
       "  <th>prdName_Flooring</th>                <td>   -0.1798</td> <td>    0.085</td> <td>   -2.127</td> <td> 0.033</td> <td>   -0.345</td> <td>   -0.014</td>\n",
       "</tr>\n",
       "<tr>\n",
       "  <th>leadsgrp_Home Advisor</th>           <td>   -0.9227</td> <td>    0.098</td> <td>   -9.437</td> <td> 0.000</td> <td>   -1.114</td> <td>   -0.731</td>\n",
       "</tr>\n",
       "<tr>\n",
       "  <th>Normalized ExperianSegment</th>      <td>   -0.9298</td> <td>    0.020</td> <td>  -46.924</td> <td> 0.000</td> <td>   -0.969</td> <td>   -0.891</td>\n",
       "</tr>\n",
       "<tr>\n",
       "  <th>cusstate_LA</th>                     <td>    0.0077</td> <td>    0.115</td> <td>    0.067</td> <td> 0.947</td> <td>   -0.217</td> <td>    0.233</td>\n",
       "</tr>\n",
       "<tr>\n",
       "  <th>leadscat_Internet #1</th>            <td>    0.6476</td> <td>    0.094</td> <td>    6.882</td> <td> 0.000</td> <td>    0.463</td> <td>    0.832</td>\n",
       "</tr>\n",
       "<tr>\n",
       "  <th>prdName_Kitchens</th>                <td>   -0.8766</td> <td>    0.080</td> <td>  -10.950</td> <td> 0.000</td> <td>   -1.034</td> <td>   -0.720</td>\n",
       "</tr>\n",
       "<tr>\n",
       "  <th>cusstate_AR</th>                     <td>    0.4921</td> <td>    0.167</td> <td>    2.954</td> <td> 0.003</td> <td>    0.166</td> <td>    0.819</td>\n",
       "</tr>\n",
       "<tr>\n",
       "  <th>leadsgrp_Modernize</th>              <td>    0.2541</td> <td>    0.103</td> <td>    2.473</td> <td> 0.013</td> <td>    0.053</td> <td>    0.456</td>\n",
       "</tr>\n",
       "<tr>\n",
       "  <th>zp_expensive_high_volume</th>        <td>   -0.1178</td> <td>    0.038</td> <td>   -3.117</td> <td> 0.002</td> <td>   -0.192</td> <td>   -0.044</td>\n",
       "</tr>\n",
       "<tr>\n",
       "  <th>cusstate_FL</th>                     <td>   -0.6410</td> <td>    0.080</td> <td>   -7.987</td> <td> 0.000</td> <td>   -0.798</td> <td>   -0.484</td>\n",
       "</tr>\n",
       "<tr>\n",
       "  <th>cusstate_TX</th>                     <td>   -0.1459</td> <td>    0.055</td> <td>   -2.651</td> <td> 0.008</td> <td>   -0.254</td> <td>   -0.038</td>\n",
       "</tr>\n",
       "<tr>\n",
       "  <th>cusstate_IL</th>                     <td>   -0.5551</td> <td>    0.078</td> <td>   -7.090</td> <td> 0.000</td> <td>   -0.709</td> <td>   -0.402</td>\n",
       "</tr>\n",
       "<tr>\n",
       "  <th>cusstate_CA</th>                     <td>   -1.4340</td> <td>    0.056</td> <td>  -25.829</td> <td> 0.000</td> <td>   -1.543</td> <td>   -1.325</td>\n",
       "</tr>\n",
       "<tr>\n",
       "  <th>leadscat_Internet #2</th>            <td>    0.1264</td> <td>    0.076</td> <td>    1.657</td> <td> 0.098</td> <td>   -0.023</td> <td>    0.276</td>\n",
       "</tr>\n",
       "<tr>\n",
       "  <th>Normalized Days</th>                 <td>   -0.0347</td> <td>    0.015</td> <td>   -2.268</td> <td> 0.023</td> <td>   -0.065</td> <td>   -0.005</td>\n",
       "</tr>\n",
       "</table>"
      ],
      "text/plain": [
       "<class 'statsmodels.iolib.summary.Summary'>\n",
       "\"\"\"\n",
       "                 Generalized Linear Model Regression Results                  \n",
       "==============================================================================\n",
       "Dep. Variable:           CreditReject   No. Observations:                61010\n",
       "Model:                            GLM   Df Residuals:                    60979\n",
       "Model Family:                Binomial   Df Model:                           30\n",
       "Link Function:                  logit   Scale:                          1.0000\n",
       "Method:                          IRLS   Log-Likelihood:                -13484.\n",
       "Date:                Thu, 16 Jul 2020   Deviance:                       26968.\n",
       "Time:                        21:31:53   Pearson chi2:                 3.92e+04\n",
       "No. Iterations:                    29                                         \n",
       "Covariance Type:            nonrobust                                         \n",
       "===================================================================================================\n",
       "                                      coef    std err          z      P>|z|      [0.025      0.975]\n",
       "---------------------------------------------------------------------------------------------------\n",
       "const                               1.2903      0.045     28.532      0.000       1.202       1.379\n",
       "leadsgrp_Porch                      0.1654      0.129      1.284      0.199      -0.087       0.418\n",
       "cusstate_UT                        -1.1342      0.140     -8.089      0.000      -1.409      -0.859\n",
       "cusstate_NY                        -0.5695      0.066     -8.628      0.000      -0.699      -0.440\n",
       "prdName_Roofing                    -0.0392      0.059     -0.668      0.504      -0.154       0.076\n",
       "Normalized Gross Amount             0.3653      0.019     19.126      0.000       0.328       0.403\n",
       "prdName_HVAC                        0.4806      0.046     10.346      0.000       0.390       0.572\n",
       "prdName_Windows                     0.0480      0.053      0.901      0.368      -0.056       0.152\n",
       "leadsgrp_CCN Networks               0.1474      0.048      3.089      0.002       0.054       0.241\n",
       "cusstate_NC                         0.0840      0.074      1.128      0.259      -0.062       0.230\n",
       "leadsgrp_Google Paid Search         0.2311      0.095      2.427      0.015       0.044       0.418\n",
       "leadsgrp_Warm Transfer Programs     0.8179      0.092      8.881      0.000       0.637       0.998\n",
       "cusstate_WA                        -1.3472      0.106    -12.694      0.000      -1.555      -1.139\n",
       "prdName_Siding                     -0.9875      0.079    -12.500      0.000      -1.142      -0.833\n",
       "NetSale                           -32.0647   1.54e+04     -0.002      0.998   -3.02e+04    3.01e+04\n",
       "leadsgrp_Natural Search            -0.3156      0.098     -3.218      0.001      -0.508      -0.123\n",
       "prdName_Flooring                   -0.1798      0.085     -2.127      0.033      -0.345      -0.014\n",
       "leadsgrp_Home Advisor              -0.9227      0.098     -9.437      0.000      -1.114      -0.731\n",
       "Normalized ExperianSegment         -0.9298      0.020    -46.924      0.000      -0.969      -0.891\n",
       "cusstate_LA                         0.0077      0.115      0.067      0.947      -0.217       0.233\n",
       "leadscat_Internet #1                0.6476      0.094      6.882      0.000       0.463       0.832\n",
       "prdName_Kitchens                   -0.8766      0.080    -10.950      0.000      -1.034      -0.720\n",
       "cusstate_AR                         0.4921      0.167      2.954      0.003       0.166       0.819\n",
       "leadsgrp_Modernize                  0.2541      0.103      2.473      0.013       0.053       0.456\n",
       "zp_expensive_high_volume           -0.1178      0.038     -3.117      0.002      -0.192      -0.044\n",
       "cusstate_FL                        -0.6410      0.080     -7.987      0.000      -0.798      -0.484\n",
       "cusstate_TX                        -0.1459      0.055     -2.651      0.008      -0.254      -0.038\n",
       "cusstate_IL                        -0.5551      0.078     -7.090      0.000      -0.709      -0.402\n",
       "cusstate_CA                        -1.4340      0.056    -25.829      0.000      -1.543      -1.325\n",
       "leadscat_Internet #2                0.1264      0.076      1.657      0.098      -0.023       0.276\n",
       "Normalized Days                    -0.0347      0.015     -2.268      0.023      -0.065      -0.005\n",
       "===================================================================================================\n",
       "\"\"\""
      ]
     },
     "execution_count": 32,
     "metadata": {},
     "output_type": "execute_result"
    }
   ],
   "source": [
    "glm = sm.GLM(y_train,(sm.add_constant(X_train)), family = sm.families.Binomial())\n",
    "glm.fit().summary()"
   ]
  },
  {
   "cell_type": "code",
   "execution_count": 33,
   "metadata": {},
   "outputs": [],
   "source": [
    "#Feature Selection Using RFE\n",
    "rfeLogic = LogisticRegression()\n",
    "rfe = RFE(rfeLogic, 25)             #running RFE with 25 variables as output\n",
    "rfe = rfe.fit(X_train, y_train)"
   ]
  },
  {
   "cell_type": "code",
   "execution_count": 34,
   "metadata": {},
   "outputs": [
    {
     "data": {
      "text/plain": [
       "array([ True,  True,  True, False,  True,  True, False,  True, False,\n",
       "        True,  True,  True,  True,  True,  True,  True,  True,  True,\n",
       "       False,  True,  True,  True,  True,  True,  True,  True,  True,\n",
       "        True,  True, False])"
      ]
     },
     "execution_count": 34,
     "metadata": {},
     "output_type": "execute_result"
    }
   ],
   "source": [
    "rfe.support_"
   ]
  },
  {
   "cell_type": "code",
   "execution_count": 35,
   "metadata": {},
   "outputs": [
    {
     "data": {
      "text/plain": [
       "[('leadsgrp_Porch', True, 1),\n",
       " ('cusstate_UT', True, 1),\n",
       " ('cusstate_NY', True, 1),\n",
       " ('prdName_Roofing', False, 4),\n",
       " ('Normalized Gross Amount', True, 1),\n",
       " ('prdName_HVAC', True, 1),\n",
       " ('prdName_Windows', False, 3),\n",
       " ('leadsgrp_CCN Networks', True, 1),\n",
       " ('cusstate_NC', False, 2),\n",
       " ('leadsgrp_Google Paid Search', True, 1),\n",
       " ('leadsgrp_Warm Transfer Programs', True, 1),\n",
       " ('cusstate_WA', True, 1),\n",
       " ('prdName_Siding', True, 1),\n",
       " ('NetSale', True, 1),\n",
       " ('leadsgrp_Natural Search', True, 1),\n",
       " ('prdName_Flooring', True, 1),\n",
       " ('leadsgrp_Home Advisor', True, 1),\n",
       " ('Normalized ExperianSegment', True, 1),\n",
       " ('cusstate_LA', False, 6),\n",
       " ('leadscat_Internet #1', True, 1),\n",
       " ('prdName_Kitchens', True, 1),\n",
       " ('cusstate_AR', True, 1),\n",
       " ('leadsgrp_Modernize', True, 1),\n",
       " ('zp_expensive_high_volume', True, 1),\n",
       " ('cusstate_FL', True, 1),\n",
       " ('cusstate_TX', True, 1),\n",
       " ('cusstate_IL', True, 1),\n",
       " ('cusstate_CA', True, 1),\n",
       " ('leadscat_Internet #2', True, 1),\n",
       " ('Normalized Days', False, 5)]"
      ]
     },
     "execution_count": 35,
     "metadata": {},
     "output_type": "execute_result"
    }
   ],
   "source": [
    "list(zip(X_train.columns, rfe.support_, rfe.ranking_))"
   ]
  },
  {
   "cell_type": "code",
   "execution_count": 36,
   "metadata": {},
   "outputs": [
    {
     "data": {
      "text/plain": [
       "Index(['leadsgrp_Porch', 'cusstate_UT', 'cusstate_NY',\n",
       "       'Normalized Gross Amount', 'prdName_HVAC', 'leadsgrp_CCN Networks',\n",
       "       'leadsgrp_Google Paid Search', 'leadsgrp_Warm Transfer Programs',\n",
       "       'cusstate_WA', 'prdName_Siding', 'NetSale', 'leadsgrp_Natural Search',\n",
       "       'prdName_Flooring', 'leadsgrp_Home Advisor',\n",
       "       'Normalized ExperianSegment', 'leadscat_Internet #1',\n",
       "       'prdName_Kitchens', 'cusstate_AR', 'leadsgrp_Modernize',\n",
       "       'zp_expensive_high_volume', 'cusstate_FL', 'cusstate_TX', 'cusstate_IL',\n",
       "       'cusstate_CA', 'leadscat_Internet #2'],\n",
       "      dtype='object')"
      ]
     },
     "execution_count": 36,
     "metadata": {},
     "output_type": "execute_result"
    }
   ],
   "source": [
    "# Show the 25 variables from RFE methos\n",
    "col = X_train.columns[rfe.support_]\n",
    "col"
   ]
  },
  {
   "cell_type": "code",
   "execution_count": 37,
   "metadata": {},
   "outputs": [
    {
     "data": {
      "text/plain": [
       "Index(['prdName_Roofing', 'prdName_Windows', 'cusstate_NC', 'cusstate_LA',\n",
       "       'Normalized Days'],\n",
       "      dtype='object')"
      ]
     },
     "execution_count": 37,
     "metadata": {},
     "output_type": "execute_result"
    }
   ],
   "source": [
    "X_train.columns[~rfe.support_]"
   ]
  },
  {
   "cell_type": "code",
   "execution_count": 38,
   "metadata": {},
   "outputs": [
    {
     "data": {
      "text/html": [
       "<table class=\"simpletable\">\n",
       "<caption>Generalized Linear Model Regression Results</caption>\n",
       "<tr>\n",
       "  <th>Dep. Variable:</th>     <td>CreditReject</td>   <th>  No. Observations:  </th>  <td> 61010</td> \n",
       "</tr>\n",
       "<tr>\n",
       "  <th>Model:</th>                  <td>GLM</td>       <th>  Df Residuals:      </th>  <td> 60984</td> \n",
       "</tr>\n",
       "<tr>\n",
       "  <th>Model Family:</th>        <td>Binomial</td>     <th>  Df Model:          </th>  <td>    25</td> \n",
       "</tr>\n",
       "<tr>\n",
       "  <th>Link Function:</th>         <td>logit</td>      <th>  Scale:             </th> <td>  1.0000</td>\n",
       "</tr>\n",
       "<tr>\n",
       "  <th>Method:</th>                <td>IRLS</td>       <th>  Log-Likelihood:    </th> <td> -13488.</td>\n",
       "</tr>\n",
       "<tr>\n",
       "  <th>Date:</th>            <td>Thu, 16 Jul 2020</td> <th>  Deviance:          </th> <td>  26977.</td>\n",
       "</tr>\n",
       "<tr>\n",
       "  <th>Time:</th>                <td>21:32:38</td>     <th>  Pearson chi2:      </th> <td>3.92e+04</td>\n",
       "</tr>\n",
       "<tr>\n",
       "  <th>No. Iterations:</th>         <td>29</td>        <th>                     </th>     <td> </td>   \n",
       "</tr>\n",
       "<tr>\n",
       "  <th>Covariance Type:</th>     <td>nonrobust</td>    <th>                     </th>     <td> </td>   \n",
       "</tr>\n",
       "</table>\n",
       "<table class=\"simpletable\">\n",
       "<tr>\n",
       "                 <td></td>                    <th>coef</th>     <th>std err</th>      <th>z</th>      <th>P>|z|</th>  <th>[0.025</th>    <th>0.975]</th>  \n",
       "</tr>\n",
       "<tr>\n",
       "  <th>const</th>                           <td>    1.2990</td> <td>    0.036</td> <td>   36.027</td> <td> 0.000</td> <td>    1.228</td> <td>    1.370</td>\n",
       "</tr>\n",
       "<tr>\n",
       "  <th>leadsgrp_Porch</th>                  <td>    0.1675</td> <td>    0.129</td> <td>    1.302</td> <td> 0.193</td> <td>   -0.085</td> <td>    0.420</td>\n",
       "</tr>\n",
       "<tr>\n",
       "  <th>cusstate_UT</th>                     <td>   -1.1335</td> <td>    0.140</td> <td>   -8.108</td> <td> 0.000</td> <td>   -1.407</td> <td>   -0.859</td>\n",
       "</tr>\n",
       "<tr>\n",
       "  <th>cusstate_NY</th>                     <td>   -0.5727</td> <td>    0.065</td> <td>   -8.744</td> <td> 0.000</td> <td>   -0.701</td> <td>   -0.444</td>\n",
       "</tr>\n",
       "<tr>\n",
       "  <th>Normalized Gross Amount</th>         <td>    0.3565</td> <td>    0.018</td> <td>   19.641</td> <td> 0.000</td> <td>    0.321</td> <td>    0.392</td>\n",
       "</tr>\n",
       "<tr>\n",
       "  <th>prdName_HVAC</th>                    <td>    0.4761</td> <td>    0.036</td> <td>   13.106</td> <td> 0.000</td> <td>    0.405</td> <td>    0.547</td>\n",
       "</tr>\n",
       "<tr>\n",
       "  <th>leadsgrp_CCN Networks</th>           <td>    0.1502</td> <td>    0.048</td> <td>    3.152</td> <td> 0.002</td> <td>    0.057</td> <td>    0.244</td>\n",
       "</tr>\n",
       "<tr>\n",
       "  <th>leadsgrp_Google Paid Search</th>     <td>    0.2338</td> <td>    0.095</td> <td>    2.456</td> <td> 0.014</td> <td>    0.047</td> <td>    0.420</td>\n",
       "</tr>\n",
       "<tr>\n",
       "  <th>leadsgrp_Warm Transfer Programs</th> <td>    0.8334</td> <td>    0.091</td> <td>    9.117</td> <td> 0.000</td> <td>    0.654</td> <td>    1.013</td>\n",
       "</tr>\n",
       "<tr>\n",
       "  <th>cusstate_WA</th>                     <td>   -1.3547</td> <td>    0.106</td> <td>  -12.794</td> <td> 0.000</td> <td>   -1.562</td> <td>   -1.147</td>\n",
       "</tr>\n",
       "<tr>\n",
       "  <th>prdName_Siding</th>                  <td>   -0.9883</td> <td>    0.073</td> <td>  -13.484</td> <td> 0.000</td> <td>   -1.132</td> <td>   -0.845</td>\n",
       "</tr>\n",
       "<tr>\n",
       "  <th>NetSale</th>                         <td>  -32.0654</td> <td> 1.54e+04</td> <td>   -0.002</td> <td> 0.998</td> <td>-3.02e+04</td> <td> 3.01e+04</td>\n",
       "</tr>\n",
       "<tr>\n",
       "  <th>leadsgrp_Natural Search</th>         <td>   -0.3111</td> <td>    0.098</td> <td>   -3.176</td> <td> 0.001</td> <td>   -0.503</td> <td>   -0.119</td>\n",
       "</tr>\n",
       "<tr>\n",
       "  <th>prdName_Flooring</th>                <td>   -0.1911</td> <td>    0.080</td> <td>   -2.388</td> <td> 0.017</td> <td>   -0.348</td> <td>   -0.034</td>\n",
       "</tr>\n",
       "<tr>\n",
       "  <th>leadsgrp_Home Advisor</th>           <td>   -0.9354</td> <td>    0.097</td> <td>   -9.683</td> <td> 0.000</td> <td>   -1.125</td> <td>   -0.746</td>\n",
       "</tr>\n",
       "<tr>\n",
       "  <th>Normalized ExperianSegment</th>      <td>   -0.9280</td> <td>    0.020</td> <td>  -47.015</td> <td> 0.000</td> <td>   -0.967</td> <td>   -0.889</td>\n",
       "</tr>\n",
       "<tr>\n",
       "  <th>leadscat_Internet #1</th>            <td>    0.6621</td> <td>    0.093</td> <td>    7.117</td> <td> 0.000</td> <td>    0.480</td> <td>    0.844</td>\n",
       "</tr>\n",
       "<tr>\n",
       "  <th>prdName_Kitchens</th>                <td>   -0.8783</td> <td>    0.075</td> <td>  -11.732</td> <td> 0.000</td> <td>   -1.025</td> <td>   -0.732</td>\n",
       "</tr>\n",
       "<tr>\n",
       "  <th>cusstate_AR</th>                     <td>    0.4906</td> <td>    0.166</td> <td>    2.950</td> <td> 0.003</td> <td>    0.165</td> <td>    0.817</td>\n",
       "</tr>\n",
       "<tr>\n",
       "  <th>leadsgrp_Modernize</th>              <td>    0.2531</td> <td>    0.103</td> <td>    2.465</td> <td> 0.014</td> <td>    0.052</td> <td>    0.454</td>\n",
       "</tr>\n",
       "<tr>\n",
       "  <th>zp_expensive_high_volume</th>        <td>   -0.1151</td> <td>    0.038</td> <td>   -3.051</td> <td> 0.002</td> <td>   -0.189</td> <td>   -0.041</td>\n",
       "</tr>\n",
       "<tr>\n",
       "  <th>cusstate_FL</th>                     <td>   -0.6487</td> <td>    0.080</td> <td>   -8.120</td> <td> 0.000</td> <td>   -0.805</td> <td>   -0.492</td>\n",
       "</tr>\n",
       "<tr>\n",
       "  <th>cusstate_TX</th>                     <td>   -0.1488</td> <td>    0.054</td> <td>   -2.738</td> <td> 0.006</td> <td>   -0.255</td> <td>   -0.042</td>\n",
       "</tr>\n",
       "<tr>\n",
       "  <th>cusstate_IL</th>                     <td>   -0.5571</td> <td>    0.078</td> <td>   -7.156</td> <td> 0.000</td> <td>   -0.710</td> <td>   -0.405</td>\n",
       "</tr>\n",
       "<tr>\n",
       "  <th>cusstate_CA</th>                     <td>   -1.4352</td> <td>    0.055</td> <td>  -26.151</td> <td> 0.000</td> <td>   -1.543</td> <td>   -1.328</td>\n",
       "</tr>\n",
       "<tr>\n",
       "  <th>leadscat_Internet #2</th>            <td>    0.1253</td> <td>    0.076</td> <td>    1.645</td> <td> 0.100</td> <td>   -0.024</td> <td>    0.275</td>\n",
       "</tr>\n",
       "</table>"
      ],
      "text/plain": [
       "<class 'statsmodels.iolib.summary.Summary'>\n",
       "\"\"\"\n",
       "                 Generalized Linear Model Regression Results                  \n",
       "==============================================================================\n",
       "Dep. Variable:           CreditReject   No. Observations:                61010\n",
       "Model:                            GLM   Df Residuals:                    60984\n",
       "Model Family:                Binomial   Df Model:                           25\n",
       "Link Function:                  logit   Scale:                          1.0000\n",
       "Method:                          IRLS   Log-Likelihood:                -13488.\n",
       "Date:                Thu, 16 Jul 2020   Deviance:                       26977.\n",
       "Time:                        21:32:38   Pearson chi2:                 3.92e+04\n",
       "No. Iterations:                    29                                         \n",
       "Covariance Type:            nonrobust                                         \n",
       "===================================================================================================\n",
       "                                      coef    std err          z      P>|z|      [0.025      0.975]\n",
       "---------------------------------------------------------------------------------------------------\n",
       "const                               1.2990      0.036     36.027      0.000       1.228       1.370\n",
       "leadsgrp_Porch                      0.1675      0.129      1.302      0.193      -0.085       0.420\n",
       "cusstate_UT                        -1.1335      0.140     -8.108      0.000      -1.407      -0.859\n",
       "cusstate_NY                        -0.5727      0.065     -8.744      0.000      -0.701      -0.444\n",
       "Normalized Gross Amount             0.3565      0.018     19.641      0.000       0.321       0.392\n",
       "prdName_HVAC                        0.4761      0.036     13.106      0.000       0.405       0.547\n",
       "leadsgrp_CCN Networks               0.1502      0.048      3.152      0.002       0.057       0.244\n",
       "leadsgrp_Google Paid Search         0.2338      0.095      2.456      0.014       0.047       0.420\n",
       "leadsgrp_Warm Transfer Programs     0.8334      0.091      9.117      0.000       0.654       1.013\n",
       "cusstate_WA                        -1.3547      0.106    -12.794      0.000      -1.562      -1.147\n",
       "prdName_Siding                     -0.9883      0.073    -13.484      0.000      -1.132      -0.845\n",
       "NetSale                           -32.0654   1.54e+04     -0.002      0.998   -3.02e+04    3.01e+04\n",
       "leadsgrp_Natural Search            -0.3111      0.098     -3.176      0.001      -0.503      -0.119\n",
       "prdName_Flooring                   -0.1911      0.080     -2.388      0.017      -0.348      -0.034\n",
       "leadsgrp_Home Advisor              -0.9354      0.097     -9.683      0.000      -1.125      -0.746\n",
       "Normalized ExperianSegment         -0.9280      0.020    -47.015      0.000      -0.967      -0.889\n",
       "leadscat_Internet #1                0.6621      0.093      7.117      0.000       0.480       0.844\n",
       "prdName_Kitchens                   -0.8783      0.075    -11.732      0.000      -1.025      -0.732\n",
       "cusstate_AR                         0.4906      0.166      2.950      0.003       0.165       0.817\n",
       "leadsgrp_Modernize                  0.2531      0.103      2.465      0.014       0.052       0.454\n",
       "zp_expensive_high_volume           -0.1151      0.038     -3.051      0.002      -0.189      -0.041\n",
       "cusstate_FL                        -0.6487      0.080     -8.120      0.000      -0.805      -0.492\n",
       "cusstate_TX                        -0.1488      0.054     -2.738      0.006      -0.255      -0.042\n",
       "cusstate_IL                        -0.5571      0.078     -7.156      0.000      -0.710      -0.405\n",
       "cusstate_CA                        -1.4352      0.055    -26.151      0.000      -1.543      -1.328\n",
       "leadscat_Internet #2                0.1253      0.076      1.645      0.100      -0.024       0.275\n",
       "===================================================================================================\n",
       "\"\"\""
      ]
     },
     "execution_count": 38,
     "metadata": {},
     "output_type": "execute_result"
    }
   ],
   "source": [
    "# Build model with the selected features and check for statistic significance (P-Value < 0.05)\n",
    "X_train_sm = sm.add_constant(X_train[col])\n",
    "logm2 = sm.GLM(y_train,X_train_sm, family = sm.families.Binomial())\n",
    "res = logm2.fit()\n",
    "res.summary()"
   ]
  },
  {
   "cell_type": "code",
   "execution_count": 39,
   "metadata": {},
   "outputs": [
    {
     "data": {
      "text/html": [
       "<table class=\"simpletable\">\n",
       "<caption>Generalized Linear Model Regression Results</caption>\n",
       "<tr>\n",
       "  <th>Dep. Variable:</th>     <td>CreditReject</td>   <th>  No. Observations:  </th>  <td> 61010</td> \n",
       "</tr>\n",
       "<tr>\n",
       "  <th>Model:</th>                  <td>GLM</td>       <th>  Df Residuals:      </th>  <td> 60985</td> \n",
       "</tr>\n",
       "<tr>\n",
       "  <th>Model Family:</th>        <td>Binomial</td>     <th>  Df Model:          </th>  <td>    24</td> \n",
       "</tr>\n",
       "<tr>\n",
       "  <th>Link Function:</th>         <td>logit</td>      <th>  Scale:             </th> <td>  1.0000</td>\n",
       "</tr>\n",
       "<tr>\n",
       "  <th>Method:</th>                <td>IRLS</td>       <th>  Log-Likelihood:    </th> <td> -33354.</td>\n",
       "</tr>\n",
       "<tr>\n",
       "  <th>Date:</th>            <td>Thu, 16 Jul 2020</td> <th>  Deviance:          </th> <td>  66708.</td>\n",
       "</tr>\n",
       "<tr>\n",
       "  <th>Time:</th>                <td>21:33:03</td>     <th>  Pearson chi2:      </th> <td>6.15e+04</td>\n",
       "</tr>\n",
       "<tr>\n",
       "  <th>No. Iterations:</th>          <td>5</td>        <th>                     </th>     <td> </td>   \n",
       "</tr>\n",
       "<tr>\n",
       "  <th>Covariance Type:</th>     <td>nonrobust</td>    <th>                     </th>     <td> </td>   \n",
       "</tr>\n",
       "</table>\n",
       "<table class=\"simpletable\">\n",
       "<tr>\n",
       "                 <td></td>                    <th>coef</th>     <th>std err</th>      <th>z</th>      <th>P>|z|</th>  <th>[0.025</th>    <th>0.975]</th>  \n",
       "</tr>\n",
       "<tr>\n",
       "  <th>const</th>                           <td>   -0.3483</td> <td>    0.022</td> <td>  -15.809</td> <td> 0.000</td> <td>   -0.392</td> <td>   -0.305</td>\n",
       "</tr>\n",
       "<tr>\n",
       "  <th>leadsgrp_Porch</th>                  <td>    0.2677</td> <td>    0.076</td> <td>    3.535</td> <td> 0.000</td> <td>    0.119</td> <td>    0.416</td>\n",
       "</tr>\n",
       "<tr>\n",
       "  <th>cusstate_UT</th>                     <td>   -1.3513</td> <td>    0.101</td> <td>  -13.336</td> <td> 0.000</td> <td>   -1.550</td> <td>   -1.153</td>\n",
       "</tr>\n",
       "<tr>\n",
       "  <th>cusstate_NY</th>                     <td>   -0.4088</td> <td>    0.045</td> <td>   -9.046</td> <td> 0.000</td> <td>   -0.497</td> <td>   -0.320</td>\n",
       "</tr>\n",
       "<tr>\n",
       "  <th>Normalized Gross Amount</th>         <td>    0.3870</td> <td>    0.011</td> <td>   35.062</td> <td> 0.000</td> <td>    0.365</td> <td>    0.409</td>\n",
       "</tr>\n",
       "<tr>\n",
       "  <th>prdName_HVAC</th>                    <td>    0.2560</td> <td>    0.021</td> <td>   12.003</td> <td> 0.000</td> <td>    0.214</td> <td>    0.298</td>\n",
       "</tr>\n",
       "<tr>\n",
       "  <th>leadsgrp_CCN Networks</th>           <td>    0.2970</td> <td>    0.030</td> <td>   10.041</td> <td> 0.000</td> <td>    0.239</td> <td>    0.355</td>\n",
       "</tr>\n",
       "<tr>\n",
       "  <th>leadsgrp_Google Paid Search</th>     <td>    0.2873</td> <td>    0.055</td> <td>    5.191</td> <td> 0.000</td> <td>    0.179</td> <td>    0.396</td>\n",
       "</tr>\n",
       "<tr>\n",
       "  <th>leadsgrp_Warm Transfer Programs</th> <td>    1.0893</td> <td>    0.053</td> <td>   20.549</td> <td> 0.000</td> <td>    0.985</td> <td>    1.193</td>\n",
       "</tr>\n",
       "<tr>\n",
       "  <th>cusstate_WA</th>                     <td>   -1.1206</td> <td>    0.084</td> <td>  -13.396</td> <td> 0.000</td> <td>   -1.285</td> <td>   -0.957</td>\n",
       "</tr>\n",
       "<tr>\n",
       "  <th>prdName_Siding</th>                  <td>   -0.9816</td> <td>    0.050</td> <td>  -19.731</td> <td> 0.000</td> <td>   -1.079</td> <td>   -0.884</td>\n",
       "</tr>\n",
       "<tr>\n",
       "  <th>leadsgrp_Natural Search</th>         <td>   -0.3983</td> <td>    0.059</td> <td>   -6.729</td> <td> 0.000</td> <td>   -0.514</td> <td>   -0.282</td>\n",
       "</tr>\n",
       "<tr>\n",
       "  <th>prdName_Flooring</th>                <td>   -0.3153</td> <td>    0.053</td> <td>   -5.929</td> <td> 0.000</td> <td>   -0.420</td> <td>   -0.211</td>\n",
       "</tr>\n",
       "<tr>\n",
       "  <th>leadsgrp_Home Advisor</th>           <td>   -1.0284</td> <td>    0.059</td> <td>  -17.515</td> <td> 0.000</td> <td>   -1.143</td> <td>   -0.913</td>\n",
       "</tr>\n",
       "<tr>\n",
       "  <th>Normalized ExperianSegment</th>      <td>   -0.8441</td> <td>    0.011</td> <td>  -74.480</td> <td> 0.000</td> <td>   -0.866</td> <td>   -0.822</td>\n",
       "</tr>\n",
       "<tr>\n",
       "  <th>leadscat_Internet #1</th>            <td>    0.8931</td> <td>    0.055</td> <td>   16.126</td> <td> 0.000</td> <td>    0.785</td> <td>    1.002</td>\n",
       "</tr>\n",
       "<tr>\n",
       "  <th>prdName_Kitchens</th>                <td>   -0.7397</td> <td>    0.053</td> <td>  -13.999</td> <td> 0.000</td> <td>   -0.843</td> <td>   -0.636</td>\n",
       "</tr>\n",
       "<tr>\n",
       "  <th>cusstate_AR</th>                     <td>    0.5587</td> <td>    0.090</td> <td>    6.194</td> <td> 0.000</td> <td>    0.382</td> <td>    0.736</td>\n",
       "</tr>\n",
       "<tr>\n",
       "  <th>leadsgrp_Modernize</th>              <td>    0.2509</td> <td>    0.060</td> <td>    4.183</td> <td> 0.000</td> <td>    0.133</td> <td>    0.369</td>\n",
       "</tr>\n",
       "<tr>\n",
       "  <th>zp_expensive_high_volume</th>        <td>   -0.0849</td> <td>    0.023</td> <td>   -3.705</td> <td> 0.000</td> <td>   -0.130</td> <td>   -0.040</td>\n",
       "</tr>\n",
       "<tr>\n",
       "  <th>cusstate_FL</th>                     <td>   -0.4898</td> <td>    0.050</td> <td>   -9.712</td> <td> 0.000</td> <td>   -0.589</td> <td>   -0.391</td>\n",
       "</tr>\n",
       "<tr>\n",
       "  <th>cusstate_TX</th>                     <td>   -0.2813</td> <td>    0.030</td> <td>   -9.336</td> <td> 0.000</td> <td>   -0.340</td> <td>   -0.222</td>\n",
       "</tr>\n",
       "<tr>\n",
       "  <th>cusstate_IL</th>                     <td>   -0.6166</td> <td>    0.047</td> <td>  -13.181</td> <td> 0.000</td> <td>   -0.708</td> <td>   -0.525</td>\n",
       "</tr>\n",
       "<tr>\n",
       "  <th>cusstate_CA</th>                     <td>   -1.2386</td> <td>    0.040</td> <td>  -31.117</td> <td> 0.000</td> <td>   -1.317</td> <td>   -1.161</td>\n",
       "</tr>\n",
       "<tr>\n",
       "  <th>leadscat_Internet #2</th>            <td>    0.2361</td> <td>    0.045</td> <td>    5.237</td> <td> 0.000</td> <td>    0.148</td> <td>    0.325</td>\n",
       "</tr>\n",
       "</table>"
      ],
      "text/plain": [
       "<class 'statsmodels.iolib.summary.Summary'>\n",
       "\"\"\"\n",
       "                 Generalized Linear Model Regression Results                  \n",
       "==============================================================================\n",
       "Dep. Variable:           CreditReject   No. Observations:                61010\n",
       "Model:                            GLM   Df Residuals:                    60985\n",
       "Model Family:                Binomial   Df Model:                           24\n",
       "Link Function:                  logit   Scale:                          1.0000\n",
       "Method:                          IRLS   Log-Likelihood:                -33354.\n",
       "Date:                Thu, 16 Jul 2020   Deviance:                       66708.\n",
       "Time:                        21:33:03   Pearson chi2:                 6.15e+04\n",
       "No. Iterations:                     5                                         \n",
       "Covariance Type:            nonrobust                                         \n",
       "===================================================================================================\n",
       "                                      coef    std err          z      P>|z|      [0.025      0.975]\n",
       "---------------------------------------------------------------------------------------------------\n",
       "const                              -0.3483      0.022    -15.809      0.000      -0.392      -0.305\n",
       "leadsgrp_Porch                      0.2677      0.076      3.535      0.000       0.119       0.416\n",
       "cusstate_UT                        -1.3513      0.101    -13.336      0.000      -1.550      -1.153\n",
       "cusstate_NY                        -0.4088      0.045     -9.046      0.000      -0.497      -0.320\n",
       "Normalized Gross Amount             0.3870      0.011     35.062      0.000       0.365       0.409\n",
       "prdName_HVAC                        0.2560      0.021     12.003      0.000       0.214       0.298\n",
       "leadsgrp_CCN Networks               0.2970      0.030     10.041      0.000       0.239       0.355\n",
       "leadsgrp_Google Paid Search         0.2873      0.055      5.191      0.000       0.179       0.396\n",
       "leadsgrp_Warm Transfer Programs     1.0893      0.053     20.549      0.000       0.985       1.193\n",
       "cusstate_WA                        -1.1206      0.084    -13.396      0.000      -1.285      -0.957\n",
       "prdName_Siding                     -0.9816      0.050    -19.731      0.000      -1.079      -0.884\n",
       "leadsgrp_Natural Search            -0.3983      0.059     -6.729      0.000      -0.514      -0.282\n",
       "prdName_Flooring                   -0.3153      0.053     -5.929      0.000      -0.420      -0.211\n",
       "leadsgrp_Home Advisor              -1.0284      0.059    -17.515      0.000      -1.143      -0.913\n",
       "Normalized ExperianSegment         -0.8441      0.011    -74.480      0.000      -0.866      -0.822\n",
       "leadscat_Internet #1                0.8931      0.055     16.126      0.000       0.785       1.002\n",
       "prdName_Kitchens                   -0.7397      0.053    -13.999      0.000      -0.843      -0.636\n",
       "cusstate_AR                         0.5587      0.090      6.194      0.000       0.382       0.736\n",
       "leadsgrp_Modernize                  0.2509      0.060      4.183      0.000       0.133       0.369\n",
       "zp_expensive_high_volume           -0.0849      0.023     -3.705      0.000      -0.130      -0.040\n",
       "cusstate_FL                        -0.4898      0.050     -9.712      0.000      -0.589      -0.391\n",
       "cusstate_TX                        -0.2813      0.030     -9.336      0.000      -0.340      -0.222\n",
       "cusstate_IL                        -0.6166      0.047    -13.181      0.000      -0.708      -0.525\n",
       "cusstate_CA                        -1.2386      0.040    -31.117      0.000      -1.317      -1.161\n",
       "leadscat_Internet #2                0.2361      0.045      5.237      0.000       0.148       0.325\n",
       "===================================================================================================\n",
       "\"\"\""
      ]
     },
     "execution_count": 39,
     "metadata": {},
     "output_type": "execute_result"
    }
   ],
   "source": [
    "col1 = col.drop('NetSale',1) # Drop 'NetSale' variable - It's P-Value of 0.998 is greater the significant level.\n",
    "X_train_sm = sm.add_constant(X_train[col1])\n",
    "logm2 = sm.GLM(y_train,X_train_sm, family = sm.families.Binomial())\n",
    "res = logm2.fit()\n",
    "res.summary()"
   ]
  },
  {
   "cell_type": "markdown",
   "metadata": {},
   "source": [
    "The rest variables are fine. Re-run model with these variables."
   ]
  },
  {
   "cell_type": "code",
   "execution_count": 40,
   "metadata": {},
   "outputs": [
    {
     "data": {
      "text/plain": [
       "61143    0.652108\n",
       "30660    0.082341\n",
       "72243    0.868532\n",
       "62159    0.586112\n",
       "82207    0.934908\n",
       "dtype: float64"
      ]
     },
     "execution_count": 40,
     "metadata": {},
     "output_type": "execute_result"
    }
   ],
   "source": [
    "# Getting the predicted values on the train set\n",
    "y_train_pred = res.predict(X_train_sm)\n",
    "y_train_pred[:5]"
   ]
  },
  {
   "cell_type": "code",
   "execution_count": 41,
   "metadata": {},
   "outputs": [
    {
     "data": {
      "text/plain": [
       "array([0.65210804, 0.08234113, 0.86853153, 0.58611222, 0.93490837])"
      ]
     },
     "execution_count": 41,
     "metadata": {},
     "output_type": "execute_result"
    }
   ],
   "source": [
    "y_train_pred = y_train_pred.values.reshape(-1)\n",
    "y_train_pred[:5]"
   ]
  },
  {
   "cell_type": "code",
   "execution_count": 88,
   "metadata": {},
   "outputs": [],
   "source": [
    "#Creating a dataframe with the actual credit reject flag and the predicted probabilities\n",
    "#y_train_pred_final = pd.DataFrame({'Credit Reject':y_train.values, 'Credit_Reject_Prob':y_train_pred})\n",
    "#y_train_pred_final['ID'] = y_train.index\n",
    "#y_train_pred_final.head()"
   ]
  },
  {
   "cell_type": "code",
   "execution_count": null,
   "metadata": {},
   "outputs": [],
   "source": [
    "y_train_pred_final['predicted'] = y_train_pred_final.Converted_prob.map(lambda x: 0 if x > 0.5 else 1)\n",
    "\n",
    "# Let's see the head\n",
    "y_train_pred_final.head()"
   ]
  },
  {
   "cell_type": "code",
   "execution_count": 43,
   "metadata": {},
   "outputs": [
    {
     "data": {
      "text/html": [
       "<div>\n",
       "<style scoped>\n",
       "    .dataframe tbody tr th:only-of-type {\n",
       "        vertical-align: middle;\n",
       "    }\n",
       "\n",
       "    .dataframe tbody tr th {\n",
       "        vertical-align: top;\n",
       "    }\n",
       "\n",
       "    .dataframe thead th {\n",
       "        text-align: right;\n",
       "    }\n",
       "</style>\n",
       "<table border=\"1\" class=\"dataframe\">\n",
       "  <thead>\n",
       "    <tr style=\"text-align: right;\">\n",
       "      <th></th>\n",
       "      <th>Features</th>\n",
       "      <th>VIF</th>\n",
       "    </tr>\n",
       "  </thead>\n",
       "  <tbody>\n",
       "    <tr>\n",
       "      <td>15</td>\n",
       "      <td>prdName_Kitchens</td>\n",
       "      <td>10.11</td>\n",
       "    </tr>\n",
       "    <tr>\n",
       "      <td>13</td>\n",
       "      <td>Normalized ExperianSegment</td>\n",
       "      <td>5.31</td>\n",
       "    </tr>\n",
       "    <tr>\n",
       "      <td>18</td>\n",
       "      <td>zp_expensive_high_volume</td>\n",
       "      <td>4.60</td>\n",
       "    </tr>\n",
       "    <tr>\n",
       "      <td>7</td>\n",
       "      <td>leadsgrp_Warm Transfer Programs</td>\n",
       "      <td>3.34</td>\n",
       "    </tr>\n",
       "    <tr>\n",
       "      <td>6</td>\n",
       "      <td>leadsgrp_Google Paid Search</td>\n",
       "      <td>2.25</td>\n",
       "    </tr>\n",
       "    <tr>\n",
       "      <td>0</td>\n",
       "      <td>leadsgrp_Porch</td>\n",
       "      <td>2.01</td>\n",
       "    </tr>\n",
       "    <tr>\n",
       "      <td>11</td>\n",
       "      <td>prdName_Flooring</td>\n",
       "      <td>2.01</td>\n",
       "    </tr>\n",
       "    <tr>\n",
       "      <td>19</td>\n",
       "      <td>cusstate_FL</td>\n",
       "      <td>1.77</td>\n",
       "    </tr>\n",
       "    <tr>\n",
       "      <td>4</td>\n",
       "      <td>prdName_HVAC</td>\n",
       "      <td>1.68</td>\n",
       "    </tr>\n",
       "    <tr>\n",
       "      <td>10</td>\n",
       "      <td>leadsgrp_Natural Search</td>\n",
       "      <td>1.67</td>\n",
       "    </tr>\n",
       "    <tr>\n",
       "      <td>23</td>\n",
       "      <td>leadscat_Internet #2</td>\n",
       "      <td>1.34</td>\n",
       "    </tr>\n",
       "    <tr>\n",
       "      <td>14</td>\n",
       "      <td>leadscat_Internet #1</td>\n",
       "      <td>1.24</td>\n",
       "    </tr>\n",
       "    <tr>\n",
       "      <td>5</td>\n",
       "      <td>leadsgrp_CCN Networks</td>\n",
       "      <td>1.23</td>\n",
       "    </tr>\n",
       "    <tr>\n",
       "      <td>21</td>\n",
       "      <td>cusstate_IL</td>\n",
       "      <td>1.20</td>\n",
       "    </tr>\n",
       "    <tr>\n",
       "      <td>3</td>\n",
       "      <td>Normalized Gross Amount</td>\n",
       "      <td>1.17</td>\n",
       "    </tr>\n",
       "    <tr>\n",
       "      <td>2</td>\n",
       "      <td>cusstate_NY</td>\n",
       "      <td>1.17</td>\n",
       "    </tr>\n",
       "    <tr>\n",
       "      <td>9</td>\n",
       "      <td>prdName_Siding</td>\n",
       "      <td>1.10</td>\n",
       "    </tr>\n",
       "    <tr>\n",
       "      <td>16</td>\n",
       "      <td>cusstate_AR</td>\n",
       "      <td>1.10</td>\n",
       "    </tr>\n",
       "    <tr>\n",
       "      <td>12</td>\n",
       "      <td>leadsgrp_Home Advisor</td>\n",
       "      <td>1.09</td>\n",
       "    </tr>\n",
       "    <tr>\n",
       "      <td>8</td>\n",
       "      <td>cusstate_WA</td>\n",
       "      <td>1.07</td>\n",
       "    </tr>\n",
       "    <tr>\n",
       "      <td>22</td>\n",
       "      <td>cusstate_CA</td>\n",
       "      <td>1.07</td>\n",
       "    </tr>\n",
       "    <tr>\n",
       "      <td>20</td>\n",
       "      <td>cusstate_TX</td>\n",
       "      <td>1.05</td>\n",
       "    </tr>\n",
       "    <tr>\n",
       "      <td>1</td>\n",
       "      <td>cusstate_UT</td>\n",
       "      <td>1.04</td>\n",
       "    </tr>\n",
       "    <tr>\n",
       "      <td>17</td>\n",
       "      <td>leadsgrp_Modernize</td>\n",
       "      <td>1.04</td>\n",
       "    </tr>\n",
       "  </tbody>\n",
       "</table>\n",
       "</div>"
      ],
      "text/plain": [
       "                           Features    VIF\n",
       "15                 prdName_Kitchens  10.11\n",
       "13       Normalized ExperianSegment   5.31\n",
       "18         zp_expensive_high_volume   4.60\n",
       "7   leadsgrp_Warm Transfer Programs   3.34\n",
       "6       leadsgrp_Google Paid Search   2.25\n",
       "0                    leadsgrp_Porch   2.01\n",
       "11                 prdName_Flooring   2.01\n",
       "19                      cusstate_FL   1.77\n",
       "4                      prdName_HVAC   1.68\n",
       "10          leadsgrp_Natural Search   1.67\n",
       "23             leadscat_Internet #2   1.34\n",
       "14             leadscat_Internet #1   1.24\n",
       "5             leadsgrp_CCN Networks   1.23\n",
       "21                      cusstate_IL   1.20\n",
       "3           Normalized Gross Amount   1.17\n",
       "2                       cusstate_NY   1.17\n",
       "9                    prdName_Siding   1.10\n",
       "16                      cusstate_AR   1.10\n",
       "12            leadsgrp_Home Advisor   1.09\n",
       "8                       cusstate_WA   1.07\n",
       "22                      cusstate_CA   1.07\n",
       "20                      cusstate_TX   1.05\n",
       "1                       cusstate_UT   1.04\n",
       "17               leadsgrp_Modernize   1.04"
      ]
     },
     "execution_count": 43,
     "metadata": {},
     "output_type": "execute_result"
    }
   ],
   "source": [
    "vif = pd.DataFrame()\n",
    "vif['Features'] = X_train[col1].columns\n",
    "vif['VIF'] = [variance_inflation_factor(X_train[col].values, i) for i in range(X_train[col1].shape[1])]\n",
    "vif['VIF'] = round(vif['VIF'], 2)\n",
    "vif = vif.sort_values(by = \"VIF\", ascending = False)\n",
    "vif"
   ]
  },
  {
   "cell_type": "markdown",
   "metadata": {},
   "source": [
    "# Build Final Model"
   ]
  },
  {
   "cell_type": "code",
   "execution_count": 46,
   "metadata": {},
   "outputs": [],
   "source": [
    "final = data.copy()\n",
    "\n",
    "# Standridze our GrossVolume column and Days_Difference column\n",
    "final[\"Normalized Gross Amount\"] = StandardScaler().fit_transform(final['GrossVolume'].values.reshape(-1, 1))\n",
    "final[\"Normalized Days\"] = StandardScaler().fit_transform(final['Days_Difference'].values.reshape(-1, 1))\n",
    "final[\"Normalized ExperianSegment\"] = StandardScaler().fit_transform(final['ExperianSegment'].values.reshape(-1, 1))\n",
    "final.drop([\"GrossVolume\",\"Days_Difference\",\"ExperianSegment\"],axis=1,inplace=True)\n",
    "\n",
    "w = final.loc[:, final.columns != 'CreditReject']\n",
    "z = final.loc[:, final.columns == 'CreditReject']\n",
    "\n",
    "os = SMOTE(random_state=0)\n",
    "X_train, X_test, y_train, y_test = train_test_split(w, z, test_size=0.3, random_state=0)\n",
    "columns = X_train.columns\n",
    "\n",
    "os_data_X,os_data_y=os.fit_sample(X_train, y_train)\n",
    "os_data_X = pd.DataFrame(data=os_data_X,columns=columns )\n",
    "os_data_y= pd.DataFrame(data=os_data_y,columns=['CreditReject'])"
   ]
  },
  {
   "cell_type": "code",
   "execution_count": 49,
   "metadata": {},
   "outputs": [
    {
     "data": {
      "text/plain": [
       "Index(['LeadID', 'NetSale', 'leadscat_Centah', 'leadscat_Direct Mail',\n",
       "       'leadscat_InStore', 'leadscat_Inserts', 'leadscat_Internet #1',\n",
       "       'leadscat_Internet #2', 'leadscat_Misc/Self Gen', 'leadscat_Sears',\n",
       "       ...\n",
       "       'cusstate_VA', 'cusstate_WA', 'cusstate_WI', 'cusstate_WV',\n",
       "       'cusstate_WY', 'zp_expensive_high_volume', 'zp_expensive_low_volume',\n",
       "       'Normalized Gross Amount', 'Normalized Days',\n",
       "       'Normalized ExperianSegment'],\n",
       "      dtype='object', length=10839)"
      ]
     },
     "execution_count": 49,
     "metadata": {},
     "output_type": "execute_result"
    }
   ],
   "source": [
    "os_data_X.columns"
   ]
  },
  {
   "cell_type": "code",
   "execution_count": 50,
   "metadata": {},
   "outputs": [],
   "source": [
    "dz = os_data_y.copy()\n",
    "dz.insert(0, 'Unique_ID', range(10, 10 + len(dz)))\n",
    "df_dat = os_data_X[['LeadID','Normalized ExperianSegment','zp_expensive_high_volume','leadsgrp_Warm Transfer Programs',\n",
    "                    'leadsgrp_Google Paid Search','leadsgrp_Porch','prdName_Flooring','cusstate_FL','prdName_HVAC',\n",
    "                    'leadsgrp_Natural Search','leadscat_Internet #2','leadscat_Internet #1','leadsgrp_CCN Networks',\n",
    "                    'cusstate_IL','Normalized Gross Amount','cusstate_NY','prdName_Siding','cusstate_AR',\n",
    "                    'leadsgrp_Home Advisor','cusstate_WA','cusstate_CA','cusstate_TX','cusstate_UT',\n",
    "                    'leadsgrp_Modernize']]\n",
    "df_dat.insert(0, 'Unique_ID', range(10, 10 + len(df_dat)))\n",
    "merge = (pd.merge(df_dat, dz, on=['Unique_ID'], copy = False))"
   ]
  },
  {
   "cell_type": "code",
   "execution_count": 63,
   "metadata": {},
   "outputs": [
    {
     "name": "stdout",
     "output_type": "stream",
     "text": [
      "Training Model Accuracy : 78.9\n",
      "Test Model Accuracy: 78.3\n"
     ]
    },
    {
     "data": {
      "text/plain": [
       "(None, None)"
      ]
     },
     "execution_count": 63,
     "metadata": {},
     "output_type": "execute_result"
    }
   ],
   "source": [
    "from sklearn.metrics import accuracy_score\n",
    "newData = merge.copy()\n",
    "X = newData.drop(['Unique_ID','LeadID','CreditReject'], axis=1)\n",
    "\n",
    "y = newData['CreditReject']\n",
    "\n",
    "X_train, X_test, y_train, y_test = train_test_split(X, y, train_size=0.7, test_size=0.3, random_state=100)\n",
    "\n",
    "lr = LogisticRegression()\n",
    "lr.fit(X_train,y_train)\n",
    "y_train_pred = lr.predict(X_train)\n",
    "y_pred = lr.predict(X_test)\n",
    "#print(accuracy_score(y_train_pred,y_train)),print(accuracy_score(y_pred,y_test))\n",
    "print('Training Model Accuracy :',round(metrics.accuracy_score(y_train, y_train_pred)*100,1)), \\\n",
    "print('Test Model Accuracy:',round(metrics.accuracy_score(y_test, y_pred)*100,1))"
   ]
  },
  {
   "cell_type": "code",
   "execution_count": 64,
   "metadata": {},
   "outputs": [
    {
     "data": {
      "text/plain": [
       "array([0, 1, 1, 1, 1, 0, 0, 0, 1, 0], dtype=int64)"
      ]
     },
     "execution_count": 64,
     "metadata": {},
     "output_type": "execute_result"
    }
   ],
   "source": [
    "y_train_pred = y_train_pred.reshape(-1)\n",
    "y_train_pred[:10]"
   ]
  },
  {
   "cell_type": "code",
   "execution_count": 67,
   "metadata": {},
   "outputs": [
    {
     "data": {
      "text/html": [
       "<div>\n",
       "<style scoped>\n",
       "    .dataframe tbody tr th:only-of-type {\n",
       "        vertical-align: middle;\n",
       "    }\n",
       "\n",
       "    .dataframe tbody tr th {\n",
       "        vertical-align: top;\n",
       "    }\n",
       "\n",
       "    .dataframe thead th {\n",
       "        text-align: right;\n",
       "    }\n",
       "</style>\n",
       "<table border=\"1\" class=\"dataframe\">\n",
       "  <thead>\n",
       "    <tr style=\"text-align: right;\">\n",
       "      <th></th>\n",
       "      <th>Credit Reject</th>\n",
       "      <th>Credit_Reject_Prob</th>\n",
       "      <th>Lead ID</th>\n",
       "    </tr>\n",
       "  </thead>\n",
       "  <tbody>\n",
       "    <tr>\n",
       "      <td>0</td>\n",
       "      <td>1</td>\n",
       "      <td>0</td>\n",
       "      <td>58552</td>\n",
       "    </tr>\n",
       "    <tr>\n",
       "      <td>1</td>\n",
       "      <td>1</td>\n",
       "      <td>1</td>\n",
       "      <td>75051</td>\n",
       "    </tr>\n",
       "    <tr>\n",
       "      <td>2</td>\n",
       "      <td>1</td>\n",
       "      <td>1</td>\n",
       "      <td>74285</td>\n",
       "    </tr>\n",
       "    <tr>\n",
       "      <td>3</td>\n",
       "      <td>1</td>\n",
       "      <td>1</td>\n",
       "      <td>79765</td>\n",
       "    </tr>\n",
       "    <tr>\n",
       "      <td>4</td>\n",
       "      <td>1</td>\n",
       "      <td>1</td>\n",
       "      <td>64837</td>\n",
       "    </tr>\n",
       "  </tbody>\n",
       "</table>\n",
       "</div>"
      ],
      "text/plain": [
       "   Credit Reject  Credit_Reject_Prob  Lead ID\n",
       "0              1                   0    58552\n",
       "1              1                   1    75051\n",
       "2              1                   1    74285\n",
       "3              1                   1    79765\n",
       "4              1                   1    64837"
      ]
     },
     "execution_count": 67,
     "metadata": {},
     "output_type": "execute_result"
    }
   ],
   "source": [
    "#Creating a dataframe with the actual credit reject flag and the predicted probabilities\n",
    "y_train_pred_final = pd.DataFrame({'Credit Reject':y_train.values, 'Credit_Reject_Prob':y_train_pred})\n",
    "y_train_pred_final['Lead ID'] = y_train.index\n",
    "y_train_pred_final.head()"
   ]
  },
  {
   "cell_type": "code",
   "execution_count": null,
   "metadata": {},
   "outputs": [],
   "source": []
  }
 ],
 "metadata": {
  "kernelspec": {
   "display_name": "Python 3",
   "language": "python",
   "name": "python3"
  },
  "language_info": {
   "codemirror_mode": {
    "name": "ipython",
    "version": 3
   },
   "file_extension": ".py",
   "mimetype": "text/x-python",
   "name": "python",
   "nbconvert_exporter": "python",
   "pygments_lexer": "ipython3",
   "version": "3.7.4"
  }
 },
 "nbformat": 4,
 "nbformat_minor": 2
}
